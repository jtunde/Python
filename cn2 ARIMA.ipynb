{
  "cells": [
    {
      "cell_type": "markdown",
      "metadata": {
        "id": "view-in-github",
        "colab_type": "text"
      },
      "source": [
        "<a href=\"https://colab.research.google.com/github/jtunde/Python/blob/main/cn2%20ARIMA.ipynb\" target=\"_parent\"><img src=\"https://colab.research.google.com/assets/colab-badge.svg\" alt=\"Open In Colab\"/></a>"
      ]
    },
    {
      "cell_type": "code",
      "execution_count": 1,
      "metadata": {
        "id": "lIYdn1woOS1n"
      },
      "outputs": [],
      "source": [
        "import os\n",
        "import datetime\n",
        "\n",
        "import IPython\n",
        "import IPython.display\n",
        "import matplotlib as mpl\n",
        "import matplotlib.pyplot as plt\n",
        "import numpy as np\n",
        "import pandas as pd\n",
        "import seaborn as sns\n",
        "import tensorflow as tf\n",
        "\n",
        "mpl.rcParams['figure.figsize'] = (8, 6)\n",
        "mpl.rcParams['axes.grid'] = False\n"
      ]
    },
    {
      "cell_type": "code",
      "source": [
        "from google.colab import drive\n",
        "drive.mount('/content/drive')"
      ],
      "metadata": {
        "colab": {
          "base_uri": "https://localhost:8080/"
        },
        "id": "_U-44BHlUlYb",
        "outputId": "f7ee25c0-03ce-4a66-de84-62f1612917c5"
      },
      "execution_count": 2,
      "outputs": [
        {
          "output_type": "stream",
          "name": "stdout",
          "text": [
            "Mounted at /content/drive\n"
          ]
        }
      ]
    },
    {
      "cell_type": "code",
      "source": [
        "\n",
        "data = pd.read_csv('drive/MyDrive/data.csv')\n",
        "print(data.head())"
      ],
      "metadata": {
        "colab": {
          "base_uri": "https://localhost:8080/"
        },
        "id": "aeMiNyw4PHlx",
        "outputId": "dc1bc4ef-2aaa-485d-d239-dfa3399302d9"
      },
      "execution_count": 3,
      "outputs": [
        {
          "output_type": "stream",
          "name": "stdout",
          "text": [
            "         TIME     RON\n",
            "0  2021-01-01  4.9493\n",
            "1  2021-01-02  4.9493\n",
            "2  2021-01-03  4.9493\n",
            "3  2021-01-04  4.8713\n",
            "4  2021-01-05  4.8721\n"
          ]
        }
      ]
    },
    {
      "cell_type": "code",
      "source": [
        "data.index = pd.to_datetime(data['TIME'], format='%Y-%m-%d')"
      ],
      "metadata": {
        "id": "2Hh52RMyVRJq"
      },
      "execution_count": 4,
      "outputs": []
    },
    {
      "cell_type": "code",
      "source": [
        "sns.set()\n",
        "plt.ylabel('RON')\n",
        "plt.xlabel('Date')\n",
        "plt.xticks(rotation=45)\n",
        "plt.plot(data.index, data['RON'], )"
      ],
      "metadata": {
        "colab": {
          "base_uri": "https://localhost:8080/",
          "height": 331
        },
        "id": "M8I06aJdWGG6",
        "outputId": "d8562af3-6b96-44c8-9354-63a0acfd6d25"
      },
      "execution_count": 5,
      "outputs": [
        {
          "output_type": "execute_result",
          "data": {
            "text/plain": [
              "[<matplotlib.lines.Line2D at 0x7faf6410e690>]"
            ]
          },
          "metadata": {},
          "execution_count": 5
        },
        {
          "output_type": "display_data",
          "data": {
            "image/png": "[encoded data removed]",
            "text/plain": [
              "<Figure size 432x288 with 1 Axes>"
            ]
          },
          "metadata": {}
        }
      ]
    },
    {
      "cell_type": "code",
      "source": [
        "train = data[data.index < pd.to_datetime(\"2021-10-01\", format='%Y-%m-%d')]\n",
        "test = data[data.index > pd.to_datetime(\"2021-10-01\", format='%Y-%m-%d')]\n",
        "print(train)"
      ],
      "metadata": {
        "colab": {
          "base_uri": "https://localhost:8080/"
        },
        "id": "0KgSJ7ZAZY6W",
        "outputId": "e8711d62-a57b-4564-e31d-13b8a021840d"
      },
      "execution_count": 6,
      "outputs": [
        {
          "output_type": "stream",
          "name": "stdout",
          "text": [
            "                  TIME     RON\n",
            "TIME                          \n",
            "2021-01-01  2021-01-01  4.9493\n",
            "2021-01-02  2021-01-02  4.9493\n",
            "2021-01-03  2021-01-03  4.9493\n",
            "2021-01-04  2021-01-04  4.8713\n",
            "2021-01-05  2021-01-05  4.8721\n",
            "...                ...     ...\n",
            "2021-09-26  2021-09-26  4.9508\n",
            "2021-09-27  2021-09-27  4.9495\n",
            "2021-09-28  2021-09-28  4.9498\n",
            "2021-09-29  2021-09-29  4.9460\n",
            "2021-09-30  2021-09-30  4.9475\n",
            "\n",
            "[273 rows x 2 columns]\n"
          ]
        }
      ]
    },
    {
      "cell_type": "code",
      "source": [
        "train = data[data.index < pd.to_datetime(\"2021-10-01\", format='%Y-%m-%d')]\n",
        "test = data[data.index > pd.to_datetime(\"2021-10-01\", format='%Y-%m-%d')]\n",
        "\n",
        "plt.plot(train['RON'], color = \"black\")\n",
        "plt.plot(test['RON'], color = \"red\")\n",
        "plt.ylabel('RON')\n",
        "plt.xlabel('Date')\n",
        "plt.xticks(rotation=45)\n",
        "plt.title(\"Train/Test split\")\n",
        "plt.show()"
      ],
      "metadata": {
        "colab": {
          "base_uri": "https://localhost:8080/",
          "height": 330
        },
        "id": "dO3AitDAW-xg",
        "outputId": "f0faff40-f421-4788-e5d6-3e9d034d53cb"
      },
      "execution_count": 7,
      "outputs": [
        {
          "output_type": "display_data",
          "data": {
            "image/png": "[encoded data removed]",
            "text/plain": [
              "<Figure size 432x288 with 1 Axes>"
            ]
          },
          "metadata": {}
        }
      ]
    },
    {
      "cell_type": "code",
      "source": [
        "#1\n",
        "from statsmodels.tsa.statespace.sarimax import SARIMAX\n",
        "\n",
        "y = train['RON']\n",
        "#print(y)\n",
        "ARMAmodel = SARIMAX(y, order = (2, 1, 2))\n",
        "ARMAmodel = ARMAmodel.fit(disp=False)\n",
        "\n",
        "y_pred = ARMAmodel.get_forecast(len(test.index))\n",
        "y_pred_df = y_pred.conf_int(alpha = 0.5) \n",
        "#print(y_pred_df)\n",
        "\n",
        "start = y_pred_df.index[0]\n",
        "end = y_pred_df.index[-1]\n",
        "\n",
        "print(start,' ', end)\n",
        "\n",
        "y_pred_df[\"Predictions\"] = ARMAmodel.predict(start = y_pred_df.index[0], end = y_pred_df.index[-1])\n",
        "y_pred_df.index = test.index\n",
        "y_pred_out = y_pred_df[\"Predictions\"] \n",
        "\n",
        "print(y_pred_out)\n",
        "\n",
        "plt.plot(train['RON'], color = \"black\")\n",
        "plt.plot(test['RON'], color = \"red\")\n",
        "plt.ylabel('RON')\n",
        "plt.xlabel('Date')\n",
        "plt.xticks(rotation=45)\n",
        "plt.title(\"Train/Test split/Predictions\")\n",
        "\n",
        "plt.plot(y_pred_out, color='green', label = 'Predictions')\n",
        "plt.legend()\n",
        "\n",
        "import numpy as np\n",
        "from sklearn.metrics import mean_squared_error\n",
        "\n",
        "arma_rmse = np.sqrt(mean_squared_error(test[\"RON\"].values, y_pred_df[\"Predictions\"]))\n",
        "print(\"MSE: \",arma_rmse)\n"
      ],
      "metadata": {
        "outputId": "f00ffd41-df8e-4202-eb6d-5fc331466282",
        "colab": {
          "base_uri": "https://localhost:8080/",
          "height": 714
        },
        "id": "vHuytwEZtxca"
      },
      "execution_count": 8,
      "outputs": [
        {
          "output_type": "stream",
          "name": "stderr",
          "text": [
            "/usr/local/lib/python3.7/dist-packages/statsmodels/tools/_testing.py:19: FutureWarning: pandas.util.testing is deprecated. Use the functions in the public API at pandas.testing instead.\n",
            "  import pandas.util.testing as tm\n",
            "/usr/local/lib/python3.7/dist-packages/statsmodels/tsa/base/tsa_model.py:165: ValueWarning: No frequency information was provided, so inferred frequency D will be used.\n",
            "  % freq, ValueWarning)\n",
            "/usr/local/lib/python3.7/dist-packages/statsmodels/tsa/statespace/sarimax.py:961: UserWarning: Non-invertible starting MA parameters found. Using zeros as starting parameters.\n",
            "  warn('Non-invertible starting MA parameters found.'\n"
          ]
        },
        {
          "output_type": "stream",
          "name": "stdout",
          "text": [
            "2021-10-01 00:00:00   2021-12-02 00:00:00\n",
            "TIME\n",
            "2021-10-02    4.947654\n",
            "2021-10-03    4.947521\n",
            "2021-10-04    4.947629\n",
            "2021-10-05    4.947535\n",
            "2021-10-06    4.947609\n",
            "                ...   \n",
            "2021-11-29    4.947464\n",
            "2021-11-30    4.947462\n",
            "2021-12-01    4.947460\n",
            "2021-12-02    4.947458\n",
            "2021-12-03    4.947456\n",
            "Name: Predictions, Length: 63, dtype: float64\n",
            "MSE:  0.001713416395447337\n"
          ]
        },
        {
          "output_type": "display_data",
          "data": {
            "image/png": "[encoded data removed]",
            "text/plain": [
              "<Figure size 432x288 with 1 Axes>"
            ]
          },
          "metadata": {}
        }
      ]
    },
    {
      "cell_type": "code",
      "source": [
        ""
      ],
      "metadata": {
        "id": "khpqgZUVxmXr"
      },
      "execution_count": 8,
      "outputs": []
    },
    {
      "cell_type": "code",
      "source": [
        "#2\n",
        "from statsmodels.tsa.statespace.sarimax import SARIMAX\n",
        "\n",
        "y = train['RON']\n",
        "#print(y)\n",
        "SARIMAXmodel = SARIMAX(y, order = (2, 1, 2), seasonal_order=(2,2,2,6))\n",
        "SARIMAXmodel = SARIMAXmodel.fit()\n",
        "\n",
        "y_pred = SARIMAXmodel.get_forecast(len(test.index))\n",
        "#print(y_pred)\n",
        "y_pred_df = y_pred.conf_int(alpha = 0.6) \n",
        "#print(y_pred_df)\n",
        "\n",
        "y_pred_df[\"Predictions\"] = SARIMAXmodel.predict(start = y_pred_df.index[0], end = y_pred_df.index[-1])\n",
        "y_pred_df.index = test.index\n",
        "y_pred_out = y_pred_df[\"Predictions\"] \n",
        "\n",
        "plt.plot(train['RON'], color = \"black\")\n",
        "plt.plot(test['RON'], color = \"red\")\n",
        "plt.ylabel('RON')\n",
        "plt.xlabel('Date')\n",
        "plt.xticks(rotation=45)\n",
        "plt.title(\"Train/Test split/Predictions\")\n",
        "\n",
        "plt.plot(y_pred_out, color='green', label = 'Predictions')\n",
        "plt.legend()\n",
        "\n",
        "import numpy as np\n",
        "from sklearn.metrics import mean_squared_error\n",
        "\n",
        "arma_rmse = np.sqrt(mean_squared_error(test[\"RON\"].values, y_pred_df[\"Predictions\"]))\n",
        "print(\"MSE: \",arma_rmse)"
      ],
      "metadata": {
        "outputId": "00c19cae-55f3-45e6-b568-b79a91a9fc25",
        "colab": {
          "base_uri": "https://localhost:8080/",
          "height": 471
        },
        "id": "Mc5QxHzUxmvA"
      },
      "execution_count": 9,
      "outputs": [
        {
          "output_type": "stream",
          "name": "stderr",
          "text": [
            "/usr/local/lib/python3.7/dist-packages/statsmodels/tsa/base/tsa_model.py:165: ValueWarning: No frequency information was provided, so inferred frequency D will be used.\n",
            "  % freq, ValueWarning)\n",
            "/usr/local/lib/python3.7/dist-packages/statsmodels/tsa/statespace/sarimax.py:949: UserWarning: Non-stationary starting autoregressive parameters found. Using zeros as starting parameters.\n",
            "  warn('Non-stationary starting autoregressive parameters'\n",
            "/usr/local/lib/python3.7/dist-packages/statsmodels/tsa/statespace/sarimax.py:961: UserWarning: Non-invertible starting MA parameters found. Using zeros as starting parameters.\n",
            "  warn('Non-invertible starting MA parameters found.'\n"
          ]
        },
        {
          "output_type": "stream",
          "name": "stdout",
          "text": [
            "MSE:  0.004737733387625022\n"
          ]
        },
        {
          "output_type": "display_data",
          "data": {
            "image/png": "[encoded data removed]",
            "text/plain": [
              "<Figure size 432x288 with 1 Axes>"
            ]
          },
          "metadata": {}
        }
      ]
    },
    {
      "cell_type": "code",
      "source": [
        "data = pd.read_csv('drive/MyDrive/data.csv')\n",
        "print(len(data))\n",
        "#1-300\n",
        "train = data.iloc[:300]\n",
        "#301-337\n",
        "test = data.iloc[300:]"
      ],
      "metadata": {
        "id": "VYnltT_1VVI1",
        "outputId": "2d1d23f8-8b91-47ba-c587-e15f9496f5c0",
        "colab": {
          "base_uri": "https://localhost:8080/"
        }
      },
      "execution_count": 33,
      "outputs": [
        {
          "output_type": "stream",
          "name": "stdout",
          "text": [
            "337\n"
          ]
        }
      ]
    },
    {
      "cell_type": "code",
      "source": [
        "from statsmodels.tsa.arima_model import ARIMA\n",
        "#model=ARIMA(train['RON'],order=(1,0,5))\n",
        "model=ARIMA(train['RON'],order=(1,1,2))\n",
        "model=model.fit()\n",
        "model.summary()\n",
        "\n",
        "#pred=model.predict(start='2021-10-27',end='2021-12-03',typ='levels').rename('ARIMA predictions')\n",
        "pred=model.predict(start=len(train),end=len(train)+len(test)-1,typ='levels').rename('ARIMA predictions')\n",
        "\n",
        "pred.plot(legend=True)\n",
        "test['RON'].plot(legend=True)"
      ],
      "metadata": {
        "id": "0aCAp9l7NdmG",
        "outputId": "9e11d311-2716-4b2f-e958-9af43487089b",
        "colab": {
          "base_uri": "https://localhost:8080/",
          "height": 424
        }
      },
      "execution_count": 35,
      "outputs": [
        {
          "output_type": "stream",
          "name": "stderr",
          "text": [
            "/usr/local/lib/python3.7/dist-packages/statsmodels/tsa/tsatools.py:668: RuntimeWarning: overflow encountered in exp\n",
            "  newparams = ((1-np.exp(-params))/(1+np.exp(-params))).copy()\n",
            "/usr/local/lib/python3.7/dist-packages/statsmodels/tsa/tsatools.py:668: RuntimeWarning: invalid value encountered in true_divide\n",
            "  newparams = ((1-np.exp(-params))/(1+np.exp(-params))).copy()\n",
            "/usr/local/lib/python3.7/dist-packages/statsmodels/tsa/tsatools.py:669: RuntimeWarning: overflow encountered in exp\n",
            "  tmp = ((1-np.exp(-params))/(1+np.exp(-params))).copy()\n",
            "/usr/local/lib/python3.7/dist-packages/statsmodels/tsa/tsatools.py:669: RuntimeWarning: invalid value encountered in true_divide\n",
            "  tmp = ((1-np.exp(-params))/(1+np.exp(-params))).copy()\n"
          ]
        },
        {
          "output_type": "execute_result",
          "data": {
            "text/plain": [
              "<matplotlib.axes._subplots.AxesSubplot at 0x7faf53a41f50>"
            ]
          },
          "metadata": {},
          "execution_count": 35
        },
        {
          "output_type": "display_data",
          "data": {
            "image/png": "[encoded data removed]",
            "text/plain": [
              "<Figure size 432x288 with 1 Axes>"
            ]
          },
          "metadata": {}
        }
      ]
    },
    {
      "cell_type": "code",
      "source": [
        "test['RON'].mean()"
      ],
      "metadata": {
        "id": "vObfSdeHVhcu",
        "outputId": "979c1113-c351-4920-aeb9-d995ee57e109",
        "colab": {
          "base_uri": "https://localhost:8080/"
        }
      },
      "execution_count": 12,
      "outputs": [
        {
          "output_type": "execute_result",
          "data": {
            "text/plain": [
              "4.949286486486487"
            ]
          },
          "metadata": {},
          "execution_count": 12
        }
      ]
    },
    {
      "cell_type": "code",
      "source": [
        "from sklearn.metrics import mean_squared_error\n",
        "from math import sqrt\n",
        "rmse=sqrt(mean_squared_error(pred,test['RON']))\n",
        "print(rmse)"
      ],
      "metadata": {
        "id": "T7eqOJQsVlgN",
        "outputId": "d154ae84-b3ea-42f0-8bac-a53bcbbc6ad5",
        "colab": {
          "base_uri": "https://localhost:8080/"
        }
      },
      "execution_count": 36,
      "outputs": [
        {
          "output_type": "stream",
          "name": "stdout",
          "text": [
            "0.0009698185464521372\n"
          ]
        }
      ]
    },
    {
      "cell_type": "code",
      "source": [
        "from statsmodels.tsa.arima_model import ARIMA\n",
        "model2=ARIMA(data['RON'],order=(1,0,5))\n",
        "model2=model2.fit()\n",
        "data.tail()"
      ],
      "metadata": {
        "id": "y77-kmqdVoU6",
        "outputId": "89e9382e-ca23-4a7f-e3b1-523b8712ed3b",
        "colab": {
          "base_uri": "https://localhost:8080/",
          "height": 272
        }
      },
      "execution_count": 23,
      "outputs": [
        {
          "output_type": "stream",
          "name": "stderr",
          "text": [
            "/usr/local/lib/python3.7/dist-packages/statsmodels/tsa/base/tsa_model.py:165: ValueWarning: No frequency information was provided, so inferred frequency D will be used.\n",
            "  % freq, ValueWarning)\n"
          ]
        },
        {
          "output_type": "execute_result",
          "data": {
            "text/html": [
              "\n",
              "  <div id=\"df-4f244038-974e-4bb9-8432-7bc8c50403c7\">\n",
              "    <div class=\"colab-df-container\">\n",
              "      <div>\n",
              "<style scoped>\n",
              "    .dataframe tbody tr th:only-of-type {\n",
              "        vertical-align: middle;\n",
              "    }\n",
              "\n",
              "    .dataframe tbody tr th {\n",
              "        vertical-align: top;\n",
              "    }\n",
              "\n",
              "    .dataframe thead th {\n",
              "        text-align: right;\n",
              "    }\n",
              "</style>\n",
              "<table border=\"1\" class=\"dataframe\">\n",
              "  <thead>\n",
              "    <tr style=\"text-align: right;\">\n",
              "      <th></th>\n",
              "      <th>TIME</th>\n",
              "      <th>RON</th>\n",
              "    </tr>\n",
              "    <tr>\n",
              "      <th>TIME</th>\n",
              "      <th></th>\n",
              "      <th></th>\n",
              "    </tr>\n",
              "  </thead>\n",
              "  <tbody>\n",
              "    <tr>\n",
              "      <th>2021-11-29</th>\n",
              "      <td>2021-11-29</td>\n",
              "      <td>4.9498</td>\n",
              "    </tr>\n",
              "    <tr>\n",
              "      <th>2021-11-30</th>\n",
              "      <td>2021-11-30</td>\n",
              "      <td>4.9510</td>\n",
              "    </tr>\n",
              "    <tr>\n",
              "      <th>2021-12-01</th>\n",
              "      <td>2021-12-01</td>\n",
              "      <td>4.9467</td>\n",
              "    </tr>\n",
              "    <tr>\n",
              "      <th>2021-12-02</th>\n",
              "      <td>2021-12-02</td>\n",
              "      <td>4.9488</td>\n",
              "    </tr>\n",
              "    <tr>\n",
              "      <th>2021-12-03</th>\n",
              "      <td>2021-12-03</td>\n",
              "      <td>4.9493</td>\n",
              "    </tr>\n",
              "  </tbody>\n",
              "</table>\n",
              "</div>\n",
              "      <button class=\"colab-df-convert\" onclick=\"convertToInteractive('df-4f244038-974e-4bb9-8432-7bc8c50403c7')\"\n",
              "              title=\"Convert this dataframe to an interactive table.\"\n",
              "              style=\"display:none;\">\n",
              "        \n",
              "  <svg xmlns=\"http://www.w3.org/2000/svg\" height=\"24px\"viewBox=\"0 0 24 24\"\n",
              "       width=\"24px\">\n",
              "    <path d=\"M0 0h24v24H0V0z\" fill=\"none\"/>\n",
              "    <path d=\"M18.56 5.44l.94 2.06.94-2.06 2.06-.94-2.06-.94-.94-2.06-.94 2.06-2.06.94zm-11 1L8.5 8.5l.94-2.06 2.06-.94-2.06-.94L8.5 2.5l-.94 2.06-2.06.94zm10 10l.94 2.06.94-2.06 2.06-.94-2.06-.94-.94-2.06-.94 2.06-2.06.94z\"/><path d=\"M17.41 7.96l-1.37-1.37c-.4-.4-.92-.59-1.43-.59-.52 0-1.04.2-1.43.59L10.3 9.45l-7.72 7.72c-.78.78-.78 2.05 0 2.83L4 21.41c.39.39.9.59 1.41.59.51 0 1.02-.2 1.41-.59l7.78-7.78 2.81-2.81c.8-.78.8-2.07 0-2.86zM5.41 20L4 18.59l7.72-7.72 1.47 1.35L5.41 20z\"/>\n",
              "  </svg>\n",
              "      </button>\n",
              "      \n",
              "  <style>\n",
              "    .colab-df-container {\n",
              "      display:flex;\n",
              "      flex-wrap:wrap;\n",
              "      gap: 12px;\n",
              "    }\n",
              "\n",
              "    .colab-df-convert {\n",
              "      background-color: #E8F0FE;\n",
              "      border: none;\n",
              "      border-radius: 50%;\n",
              "      cursor: pointer;\n",
              "      display: none;\n",
              "      fill: #1967D2;\n",
              "      height: 32px;\n",
              "      padding: 0 0 0 0;\n",
              "      width: 32px;\n",
              "    }\n",
              "\n",
              "    .colab-df-convert:hover {\n",
              "      background-color: #E2EBFA;\n",
              "      box-shadow: 0px 1px 2px rgba(60, 64, 67, 0.3), 0px 1px 3px 1px rgba(60, 64, 67, 0.15);\n",
              "      fill: #174EA6;\n",
              "    }\n",
              "\n",
              "    [theme=dark] .colab-df-convert {\n",
              "      background-color: #3B4455;\n",
              "      fill: #D2E3FC;\n",
              "    }\n",
              "\n",
              "    [theme=dark] .colab-df-convert:hover {\n",
              "      background-color: #434B5C;\n",
              "      box-shadow: 0px 1px 3px 1px rgba(0, 0, 0, 0.15);\n",
              "      filter: drop-shadow(0px 1px 2px rgba(0, 0, 0, 0.3));\n",
              "      fill: #FFFFFF;\n",
              "    }\n",
              "  </style>\n",
              "\n",
              "      <script>\n",
              "        const buttonEl =\n",
              "          document.querySelector('#df-4f244038-974e-4bb9-8432-7bc8c50403c7 button.colab-df-convert');\n",
              "        buttonEl.style.display =\n",
              "          google.colab.kernel.accessAllowed ? 'block' : 'none';\n",
              "\n",
              "        async function convertToInteractive(key) {\n",
              "          const element = document.querySelector('#df-4f244038-974e-4bb9-8432-7bc8c50403c7');\n",
              "          const dataTable =\n",
              "            await google.colab.kernel.invokeFunction('convertToInteractive',\n",
              "                                                     [key], {});\n",
              "          if (!dataTable) return;\n",
              "\n",
              "          const docLinkHtml = 'Like what you see? Visit the ' +\n",
              "            '<a target=\"_blank\" href=https://colab.research.google.com/notebooks/data_table.ipynb>data table notebook</a>'\n",
              "            + ' to learn more about interactive tables.';\n",
              "          element.innerHTML = '';\n",
              "          dataTable['output_type'] = 'display_data';\n",
              "          await google.colab.output.renderOutput(dataTable, element);\n",
              "          const docLink = document.createElement('div');\n",
              "          docLink.innerHTML = docLinkHtml;\n",
              "          element.appendChild(docLink);\n",
              "        }\n",
              "      </script>\n",
              "    </div>\n",
              "  </div>\n",
              "  "
            ],
            "text/plain": [
              "                  TIME     RON\n",
              "TIME                          \n",
              "2021-11-29  2021-11-29  4.9498\n",
              "2021-11-30  2021-11-30  4.9510\n",
              "2021-12-01  2021-12-01  4.9467\n",
              "2021-12-02  2021-12-02  4.9488\n",
              "2021-12-03  2021-12-03  4.9493"
            ]
          },
          "metadata": {},
          "execution_count": 23
        }
      ]
    },
    {
      "cell_type": "code",
      "source": [
        "index_future_dates=pd.date_range(start='2021-12-04',end='2022-01-03')\n",
        "pred=model2.predict(start='2021-12-04',end='2022-01-03').rename('ARIMA Predictions')\n",
        "#pred=model2.predict(start=len(data),end=len(data)+30).rename('ARIMA predictions')\n",
        "#print(comp_pred)\n",
        "pred.index=index_future_dates\n",
        "print(pred)\n",
        "pred.plot(figsize=(12,5),legend=True)"
      ],
      "metadata": {
        "id": "FErk2L2-Vq3X"
      },
      "execution_count": null,
      "outputs": []
    },
    {
      "cell_type": "code",
      "source": [
        "from pandas import read_csv\n",
        "from matplotlib import pyplot\n",
        "from statsmodels.tsa.arima_model import ARIMA"
      ],
      "metadata": {
        "id": "dPt2JbWIqSiH"
      },
      "execution_count": 24,
      "outputs": []
    },
    {
      "cell_type": "code",
      "source": [
        "from sklearn.metrics import MeanSquaredError"
      ],
      "metadata": {
        "id": "KJnNSueDqvXA"
      },
      "execution_count": null,
      "outputs": []
    },
    {
      "cell_type": "code",
      "source": [
        "data = pd.read_csv('drive/MyDrive/data.csv', header=0, parse_dates=[0], index_col=0)\n",
        "print(data.head())"
      ],
      "metadata": {
        "id": "0lHaycXesp6_",
        "outputId": "735f9a34-f3b1-4a8f-9ed2-d6d61a118899",
        "colab": {
          "base_uri": "https://localhost:8080/"
        }
      },
      "execution_count": 44,
      "outputs": [
        {
          "output_type": "stream",
          "name": "stdout",
          "text": [
            "               RON\n",
            "TIME              \n",
            "2021-01-01  4.9493\n",
            "2021-01-02  4.9493\n",
            "2021-01-03  4.9493\n",
            "2021-01-04  4.8713\n",
            "2021-01-05  4.8721\n"
          ]
        }
      ]
    },
    {
      "cell_type": "code",
      "source": [
        "sns.set()\n",
        "plt.ylabel('RON')\n",
        "plt.xlabel('Date')\n",
        "plt.xticks(rotation=45)\n",
        "plt.plot(data.index, data['RON'], )"
      ],
      "metadata": {
        "id": "mcrOr--0plcR",
        "outputId": "d3892a55-3e38-4c87-b982-b1ae7d8ad2a2",
        "colab": {
          "base_uri": "https://localhost:8080/",
          "height": 331
        }
      },
      "execution_count": 45,
      "outputs": [
        {
          "output_type": "execute_result",
          "data": {
            "text/plain": [
              "[<matplotlib.lines.Line2D at 0x7faf53704bd0>]"
            ]
          },
          "metadata": {},
          "execution_count": 45
        },
        {
          "output_type": "display_data",
          "data": {
            "image/png": "[encoded data removed]",
            "text/plain": [
              "<Figure size 432x288 with 1 Axes>"
            ]
          },
          "metadata": {}
        }
      ]
    },
    {
      "cell_type": "code",
      "source": [
        "data.describe()"
      ],
      "metadata": {
        "id": "uEz9sBb_pqTn",
        "outputId": "cdeddece-4dfe-44e0-a8b2-f29f8a5db741",
        "colab": {
          "base_uri": "https://localhost:8080/",
          "height": 300
        }
      },
      "execution_count": 46,
      "outputs": [
        {
          "output_type": "execute_result",
          "data": {
            "text/html": [
              "\n",
              "  <div id=\"df-3a987d5b-ef4b-45c9-b0c9-5b336acf55a6\">\n",
              "    <div class=\"colab-df-container\">\n",
              "      <div>\n",
              "<style scoped>\n",
              "    .dataframe tbody tr th:only-of-type {\n",
              "        vertical-align: middle;\n",
              "    }\n",
              "\n",
              "    .dataframe tbody tr th {\n",
              "        vertical-align: top;\n",
              "    }\n",
              "\n",
              "    .dataframe thead th {\n",
              "        text-align: right;\n",
              "    }\n",
              "</style>\n",
              "<table border=\"1\" class=\"dataframe\">\n",
              "  <thead>\n",
              "    <tr style=\"text-align: right;\">\n",
              "      <th></th>\n",
              "      <th>RON</th>\n",
              "    </tr>\n",
              "  </thead>\n",
              "  <tbody>\n",
              "    <tr>\n",
              "      <th>count</th>\n",
              "      <td>337.000000</td>\n",
              "    </tr>\n",
              "    <tr>\n",
              "      <th>mean</th>\n",
              "      <td>4.919199</td>\n",
              "    </tr>\n",
              "    <tr>\n",
              "      <th>std</th>\n",
              "      <td>0.026602</td>\n",
              "    </tr>\n",
              "    <tr>\n",
              "      <th>min</th>\n",
              "      <td>4.870500</td>\n",
              "    </tr>\n",
              "    <tr>\n",
              "      <th>25%</th>\n",
              "      <td>4.902500</td>\n",
              "    </tr>\n",
              "    <tr>\n",
              "      <th>50%</th>\n",
              "      <td>4.925500</td>\n",
              "    </tr>\n",
              "    <tr>\n",
              "      <th>75%</th>\n",
              "      <td>4.945800</td>\n",
              "    </tr>\n",
              "    <tr>\n",
              "      <th>max</th>\n",
              "      <td>4.951000</td>\n",
              "    </tr>\n",
              "  </tbody>\n",
              "</table>\n",
              "</div>\n",
              "      <button class=\"colab-df-convert\" onclick=\"convertToInteractive('df-3a987d5b-ef4b-45c9-b0c9-5b336acf55a6')\"\n",
              "              title=\"Convert this dataframe to an interactive table.\"\n",
              "              style=\"display:none;\">\n",
              "        \n",
              "  <svg xmlns=\"http://www.w3.org/2000/svg\" height=\"24px\"viewBox=\"0 0 24 24\"\n",
              "       width=\"24px\">\n",
              "    <path d=\"M0 0h24v24H0V0z\" fill=\"none\"/>\n",
              "    <path d=\"M18.56 5.44l.94 2.06.94-2.06 2.06-.94-2.06-.94-.94-2.06-.94 2.06-2.06.94zm-11 1L8.5 8.5l.94-2.06 2.06-.94-2.06-.94L8.5 2.5l-.94 2.06-2.06.94zm10 10l.94 2.06.94-2.06 2.06-.94-2.06-.94-.94-2.06-.94 2.06-2.06.94z\"/><path d=\"M17.41 7.96l-1.37-1.37c-.4-.4-.92-.59-1.43-.59-.52 0-1.04.2-1.43.59L10.3 9.45l-7.72 7.72c-.78.78-.78 2.05 0 2.83L4 21.41c.39.39.9.59 1.41.59.51 0 1.02-.2 1.41-.59l7.78-7.78 2.81-2.81c.8-.78.8-2.07 0-2.86zM5.41 20L4 18.59l7.72-7.72 1.47 1.35L5.41 20z\"/>\n",
              "  </svg>\n",
              "      </button>\n",
              "      \n",
              "  <style>\n",
              "    .colab-df-container {\n",
              "      display:flex;\n",
              "      flex-wrap:wrap;\n",
              "      gap: 12px;\n",
              "    }\n",
              "\n",
              "    .colab-df-convert {\n",
              "      background-color: #E8F0FE;\n",
              "      border: none;\n",
              "      border-radius: 50%;\n",
              "      cursor: pointer;\n",
              "      display: none;\n",
              "      fill: #1967D2;\n",
              "      height: 32px;\n",
              "      padding: 0 0 0 0;\n",
              "      width: 32px;\n",
              "    }\n",
              "\n",
              "    .colab-df-convert:hover {\n",
              "      background-color: #E2EBFA;\n",
              "      box-shadow: 0px 1px 2px rgba(60, 64, 67, 0.3), 0px 1px 3px 1px rgba(60, 64, 67, 0.15);\n",
              "      fill: #174EA6;\n",
              "    }\n",
              "\n",
              "    [theme=dark] .colab-df-convert {\n",
              "      background-color: #3B4455;\n",
              "      fill: #D2E3FC;\n",
              "    }\n",
              "\n",
              "    [theme=dark] .colab-df-convert:hover {\n",
              "      background-color: #434B5C;\n",
              "      box-shadow: 0px 1px 3px 1px rgba(0, 0, 0, 0.15);\n",
              "      filter: drop-shadow(0px 1px 2px rgba(0, 0, 0, 0.3));\n",
              "      fill: #FFFFFF;\n",
              "    }\n",
              "  </style>\n",
              "\n",
              "      <script>\n",
              "        const buttonEl =\n",
              "          document.querySelector('#df-3a987d5b-ef4b-45c9-b0c9-5b336acf55a6 button.colab-df-convert');\n",
              "        buttonEl.style.display =\n",
              "          google.colab.kernel.accessAllowed ? 'block' : 'none';\n",
              "\n",
              "        async function convertToInteractive(key) {\n",
              "          const element = document.querySelector('#df-3a987d5b-ef4b-45c9-b0c9-5b336acf55a6');\n",
              "          const dataTable =\n",
              "            await google.colab.kernel.invokeFunction('convertToInteractive',\n",
              "                                                     [key], {});\n",
              "          if (!dataTable) return;\n",
              "\n",
              "          const docLinkHtml = 'Like what you see? Visit the ' +\n",
              "            '<a target=\"_blank\" href=https://colab.research.google.com/notebooks/data_table.ipynb>data table notebook</a>'\n",
              "            + ' to learn more about interactive tables.';\n",
              "          element.innerHTML = '';\n",
              "          dataTable['output_type'] = 'display_data';\n",
              "          await google.colab.output.renderOutput(dataTable, element);\n",
              "          const docLink = document.createElement('div');\n",
              "          docLink.innerHTML = docLinkHtml;\n",
              "          element.appendChild(docLink);\n",
              "        }\n",
              "      </script>\n",
              "    </div>\n",
              "  </div>\n",
              "  "
            ],
            "text/plain": [
              "              RON\n",
              "count  337.000000\n",
              "mean     4.919199\n",
              "std      0.026602\n",
              "min      4.870500\n",
              "25%      4.902500\n",
              "50%      4.925500\n",
              "75%      4.945800\n",
              "max      4.951000"
            ]
          },
          "metadata": {},
          "execution_count": 46
        }
      ]
    },
    {
      "cell_type": "code",
      "source": [
        "from statsmodels.tsa.arima_model import ARIMA\n",
        "\n",
        "#Function that calls ARIMA model to fit and forecast the data\n",
        "def StartARIMAForecasting(Actual, P, D, Q):\n",
        "\tmodel = ARIMA(Actual, order=(P, D, Q))\n",
        "\tmodel_fit = model.fit(disp=0)\n",
        "\tprediction = model_fit.forecast()[0]\n",
        "\treturn prediction"
      ],
      "metadata": {
        "id": "v8jKMBwOImGK"
      },
      "execution_count": 50,
      "outputs": []
    },
    {
      "cell_type": "code",
      "source": [
        "#ExchangeRates = [[4.9493],[4.9493],[4.9493],[4.8713],[4.8721],[4.8720],[4.8712],[4.8708]]\n",
        "import numpy as np\n",
        "data = data[0:len(data)]\n",
        "adata = [x for x in data]\n",
        "#predict next value\n",
        "predicted = StartARIMAForecasting(adata, 1,1,0)\n",
        "#display the value\n",
        "print('Predicted=%f' % (predicted))"
      ],
      "metadata": {
        "id": "pKs9TGITIxb6",
        "outputId": "fcb5dc2b-d3ba-43fb-ca3d-61608418bed1",
        "colab": {
          "base_uri": "https://localhost:8080/"
        }
      },
      "execution_count": 94,
      "outputs": [
        {
          "output_type": "stream",
          "name": "stdout",
          "text": [
            "Predicted=4.949317\n"
          ]
        },
        {
          "output_type": "stream",
          "name": "stderr",
          "text": [
            "/usr/local/lib/python3.7/dist-packages/statsmodels/base/model.py:512: ConvergenceWarning: Maximum Likelihood optimization failed to converge. Check mle_retvals\n",
            "  \"Check mle_retvals\", ConvergenceWarning)\n"
          ]
        }
      ]
    },
    {
      "cell_type": "code",
      "source": [
        ""
      ],
      "metadata": {
        "id": "0n5Pl-mMIxNM"
      },
      "execution_count": null,
      "outputs": []
    },
    {
      "cell_type": "code",
      "source": [
        "from pandas import pandas as pa\n",
        "from matplotlib import pyplot\n",
        "from statsmodels.tsa.arima_model import ARIMA"
      ],
      "metadata": {
        "id": "iP4OtB2CIw8j"
      },
      "execution_count": 68,
      "outputs": []
    },
    {
      "cell_type": "code",
      "source": [
        "data = pd.read_csv('drive/MyDrive/data.csv', header=0, parse_dates=[0], index_col=0).values"
      ],
      "metadata": {
        "id": "5GBUILVgPng-"
      },
      "execution_count": 74,
      "outputs": []
    },
    {
      "cell_type": "code",
      "source": [
        "def StartARIMAForecasting(Actual, P, D, Q):\n",
        "\tmodel = ARIMA(Actual, order=(P, D, Q))\n",
        "\tmodel_fit = model.fit(disp=0)\n",
        "\tprediction = model_fit.forecast()[0]\n",
        "\treturn prediction"
      ],
      "metadata": {
        "id": "Cbi1HlZYQBa5"
      },
      "execution_count": 75,
      "outputs": []
    },
    {
      "cell_type": "code",
      "source": [
        "NumberOfElements = len(data)\n",
        "#Use 70% of data as training, rest 30% to Test model\n",
        "TrainingSize = int(NumberOfElements * 0.7)\n",
        "TrainingData = data[0:TrainingSize]\n",
        "TestData = data[TrainingSize:NumberOfElements]\n",
        "\n",
        "#new arrays to store actual and predictions\n",
        "Actual = [x for x in TrainingData]\n",
        "Predictions = list()\n",
        "print(len(TestData))"
      ],
      "metadata": {
        "id": "K42FD5eNp2DD",
        "outputId": "338154cd-75ec-427d-9cc6-ce719df1f8bf",
        "colab": {
          "base_uri": "https://localhost:8080/"
        }
      },
      "execution_count": 95,
      "outputs": [
        {
          "output_type": "stream",
          "name": "stdout",
          "text": [
            "102\n"
          ]
        }
      ]
    },
    {
      "cell_type": "code",
      "source": [
        "for timepoint in range(len(TestData)):\n",
        "  ActualValue =  TestData[timepoint]\n",
        "\t#forcast value\n",
        "  Prediction = StartARIMAForecasting(Actual, 3,1,0)    \n",
        "  print('Actual=%f, Predicted=%f' % (ActualValue, Prediction))\n",
        "\t#add it in the list\n",
        "  Predictions.append(Prediction)\n",
        "  Actual.append(ActualValue)"
      ],
      "metadata": {
        "id": "RXzgVaw8rQv0",
        "outputId": "554bdb96-35db-453e-dff9-c91a0cf50345",
        "colab": {
          "base_uri": "https://localhost:8080/"
        }
      },
      "execution_count": 118,
      "outputs": [
        {
          "output_type": "stream",
          "name": "stdout",
          "text": [
            "Actual=4.928000, Predicted=4.929174\n",
            "Actual=4.929000, Predicted=4.927999\n",
            "Actual=4.931800, Predicted=4.929180\n",
            "Actual=4.934000, Predicted=4.931865\n",
            "Actual=4.934000, Predicted=4.933899\n",
            "Actual=4.934000, Predicted=4.933756\n",
            "Actual=4.934300, Predicted=4.933842\n",
            "Actual=4.935900, Predicted=4.934260\n",
            "Actual=4.934600, Predicted=4.935901\n",
            "Actual=4.939300, Predicted=4.934457\n",
            "Actual=4.943800, Predicted=4.939370\n",
            "Actual=4.943800, Predicted=4.943882\n",
            "Actual=4.943800, Predicted=4.943471\n",
            "Actual=4.947800, Predicted=4.943596\n",
            "Actual=4.950600, Predicted=4.947939\n",
            "Actual=4.949500, Predicted=4.950614\n",
            "Actual=4.946600, Predicted=4.949272\n",
            "Actual=4.941300, Predicted=4.946421\n",
            "Actual=4.941300, Predicted=4.941211\n",
            "Actual=4.941300, Predicted=4.941551\n",
            "Actual=4.945300, Predicted=4.941523\n",
            "Actual=4.948500, Predicted=4.945447\n",
            "Actual=4.948500, Predicted=4.948536\n",
            "Actual=4.948800, Predicted=4.948199\n",
            "Actual=4.948800, Predicted=4.948643\n",
            "Actual=4.948800, Predicted=4.948808\n",
            "Actual=4.948800, Predicted=4.948798\n",
            "Actual=4.949300, Predicted=4.948815\n",
            "Actual=4.949700, Predicted=4.949336\n",
            "Actual=4.950500, Predicted=4.949721\n",
            "Actual=4.950300, Predicted=4.950513\n",
            "Actual=4.950800, Predicted=4.950270\n",
            "Actual=4.950800, Predicted=4.950801\n",
            "Actual=4.950800, Predicted=4.950822\n",
            "Actual=4.949500, Predicted=4.950794\n",
            "Actual=4.949800, Predicted=4.949468\n",
            "Actual=4.946000, Predicted=4.949862\n",
            "Actual=4.947500, Predicted=4.945927\n",
            "Actual=4.947000, Predicted=4.947639\n",
            "Actual=4.947000, Predicted=4.947179\n",
            "Actual=4.947000, Predicted=4.946932\n",
            "Actual=4.947800, Predicted=4.947037\n",
            "Actual=4.947700, Predicted=4.947840\n",
            "Actual=4.945800, Predicted=4.947688\n",
            "Actual=4.947500, Predicted=4.945689\n",
            "Actual=4.948300, Predicted=4.947623\n",
            "Actual=4.948300, Predicted=4.948411\n",
            "Actual=4.948300, Predicted=4.948194\n",
            "Actual=4.949300, Predicted=4.948266\n",
            "Actual=4.949900, Predicted=4.949352\n",
            "Actual=4.949000, Predicted=4.949916\n",
            "Actual=4.950000, Predicted=4.948910\n",
            "Actual=4.946500, Predicted=4.950042\n",
            "Actual=4.946500, Predicted=4.946408\n",
            "Actual=4.946500, Predicted=4.946530\n",
            "Actual=4.949000, Predicted=4.946709\n",
            "Actual=4.948800, Predicted=4.949105\n",
            "Actual=4.948700, Predicted=4.948749\n",
            "Actual=4.946700, Predicted=4.948558\n",
            "Actual=4.945400, Predicted=4.946652\n",
            "Actual=4.945400, Predicted=4.945410\n",
            "Actual=4.945400, Predicted=4.945564\n",
            "Actual=4.947500, Predicted=4.945488\n",
            "Actual=4.946800, Predicted=4.947587\n",
            "Actual=4.948400, Predicted=4.946735\n",
            "Actual=4.949500, Predicted=4.948346\n",
            "Actual=4.949300, Predicted=4.949567\n",
            "Actual=4.949300, Predicted=4.949179\n",
            "Actual=4.949300, Predicted=4.949249\n",
            "Actual=4.949300, Predicted=4.949330\n",
            "Actual=4.950000, Predicted=4.949317\n",
            "Actual=4.949400, Predicted=4.950044\n",
            "Actual=4.949400, Predicted=4.949379\n",
            "Actual=4.949600, Predicted=4.949385\n",
            "Actual=4.949600, Predicted=4.949664\n",
            "Actual=4.949600, Predicted=4.949613\n",
            "Actual=4.949100, Predicted=4.949604\n",
            "Actual=4.947600, Predicted=4.949098\n",
            "Actual=4.949600, Predicted=4.947568\n",
            "Actual=4.947400, Predicted=4.949756\n",
            "Actual=4.948800, Predicted=4.947385\n",
            "Actual=4.948800, Predicted=4.948779\n",
            "Actual=4.948800, Predicted=4.948930\n",
            "Actual=4.949600, Predicted=4.948722\n",
            "Actual=4.949300, Predicted=4.949645\n",
            "Actual=4.949300, Predicted=4.949288\n",
            "Actual=4.949700, Predicted=4.949270\n",
            "Actual=4.949500, Predicted=4.949751\n",
            "Actual=4.949500, Predicted=4.949501\n",
            "Actual=4.949500, Predicted=4.949495\n",
            "Actual=4.949600, Predicted=4.949529\n",
            "Actual=4.949500, Predicted=4.949620\n",
            "Actual=4.949300, Predicted=4.949511\n",
            "Actual=4.949400, Predicted=4.949304\n",
            "Actual=4.949800, Predicted=4.949430\n",
            "Actual=4.949800, Predicted=4.949842\n",
            "Actual=4.949800, Predicted=4.949802\n",
            "Actual=4.949800, Predicted=4.949791\n",
            "Actual=4.951000, Predicted=4.949817\n",
            "Actual=4.946700, Predicted=4.951062\n",
            "Actual=4.948800, Predicted=4.946535\n",
            "Actual=4.949300, Predicted=4.948897\n"
          ]
        }
      ]
    },
    {
      "cell_type": "code",
      "source": [
        "from sklearn.metrics import mean_squared_error"
      ],
      "metadata": {
        "id": "kpgM1MpeQ_fp"
      },
      "execution_count": 119,
      "outputs": []
    },
    {
      "cell_type": "code",
      "source": [
        "#Print MSE to see how good the model is\n",
        "Error = mean_squared_error(TestData, Predictions)\n",
        "print('Test Mean Squared Error (smaller the better fit): %.3f' % Error)\n",
        "# plot\n",
        "pyplot.plot(TestData)\n",
        "pyplot.plot(Predictions, color='red')\n",
        "pyplot.show()"
      ],
      "metadata": {
        "id": "m3H-LWabraec",
        "outputId": "1188f495-d0f0-4840-d057-4cf2ea0c73d7",
        "colab": {
          "base_uri": "https://localhost:8080/",
          "height": 286
        }
      },
      "execution_count": 120,
      "outputs": [
        {
          "output_type": "stream",
          "name": "stdout",
          "text": [
            "Test Mean Squared Error (smaller the better fit): 0.000\n"
          ]
        },
        {
          "output_type": "display_data",
          "data": {
            "image/png": "[encoded data removed]",
            "text/plain": [
              "<Figure size 432x288 with 1 Axes>"
            ]
          },
          "metadata": {}
        }
      ]
    }
  ],
  "metadata": {
    "colab": {
      "name": "scratchpad",
      "provenance": [],
      "include_colab_link": true
    },
    "kernelspec": {
      "display_name": "Python 3",
      "name": "python3"
    }
  },
  "nbformat": 4,
  "nbformat_minor": 0
}