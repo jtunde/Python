{
  "nbformat": 4,
  "nbformat_minor": 0,
  "metadata": {
    "colab": {
      "name": "Untitled15.ipynb",
      "provenance": [],
      "authorship_tag": "ABX9TyNSgCi5sbshxBHFnHfZK2+o",
      "include_colab_link": true
    },
    "kernelspec": {
      "name": "python3",
      "display_name": "Python 3"
    },
    "language_info": {
      "name": "python"
    }
  },
  "cells": [
    {
      "cell_type": "markdown",
      "metadata": {
        "id": "view-in-github",
        "colab_type": "text"
      },
      "source": [
        "<a href=\"https://colab.research.google.com/github/jtunde/Python/blob/main/ss2.ipynb\" target=\"_parent\"><img src=\"https://colab.research.google.com/assets/colab-badge.svg\" alt=\"Open In Colab\"/></a>"
      ]
    },
    {
      "cell_type": "code",
      "execution_count": 8,
      "metadata": {
        "id": "0UZhiX18uPUp"
      },
      "outputs": [],
      "source": [
        "import pandas as pd\n",
        "import numpy\n",
        "from numpy import array\n",
        "import matplotlib.pyplot as plt\n",
        "from keras.models import Sequential\n",
        "from keras.layers import Dense\n",
        "\n",
        "from sklearn.ensemble import RandomForestClassifier"
      ]
    },
    {
      "cell_type": "code",
      "source": [
        "nls_columns = [\n",
        "    'duration',\n",
        "    'protocol_type',\n",
        "    'service',\n",
        "    'flag',\n",
        "    'src_bytes',\n",
        "    'dst_bytes',\n",
        "    'land',\n",
        "    'wrong_fragment',\n",
        "    'urgent',\n",
        "    'hot',\n",
        "    'num_failed_logins',\n",
        "    'logged_in',\n",
        "    'num_compromised',\n",
        "    'root_shell',\n",
        "    'su_attempted',\n",
        "    'num_root',\n",
        "    'num_file_creations',\n",
        "    'num_shells',\n",
        "    'num_access_files',\n",
        "    'num_outbound_cmds',\n",
        "    'is_host_login',\n",
        "    'is_guest_login',\n",
        "    'count',\n",
        "    'srv_count',\n",
        "    'serror_rate',\n",
        "    'srv_serror_rate',\n",
        "    'rerror_rate',\n",
        "    'srv_rerror_rate',\n",
        "    'same_srv_rate',\n",
        "    'diff_srv_rate',\n",
        "    'srv_diff_host_rate',\n",
        "    'dst_host_count',\n",
        "    'dst_host_srv_count',\n",
        "    'dst_host_same_srv_rate',\n",
        "    'dst_host_diff_srv_rate',\n",
        "    'dst_host_same_src_port_rate',\n",
        "    'dst_host_srv_diff_host_rate',\n",
        "    'dst_host_serror_rate',\n",
        "    'dst_host_srv_serror_rate',\n",
        "    'dst_host_rerror_rate',\n",
        "    'dst_host_srv_rerror_rate',\n",
        "    'class']\n",
        "\n",
        "CLASSIFIER_COLUMN = 41"
      ],
      "metadata": {
        "id": "NK7FleDuvRZG"
      },
      "execution_count": 9,
      "outputs": []
    },
    {
      "cell_type": "code",
      "source": [
        "from google.colab import drive\n",
        "drive.mount('/content/drive')"
      ],
      "metadata": {
        "id": "LzII0a2hvlZ4",
        "outputId": "9f633fa0-6786-402a-9b19-46dd50dc6a8d",
        "colab": {
          "base_uri": "https://localhost:8080/"
        }
      },
      "execution_count": 4,
      "outputs": [
        {
          "output_type": "stream",
          "name": "stdout",
          "text": [
            "Mounted at /content/drive\n"
          ]
        }
      ]
    },
    {
      "cell_type": "code",
      "source": [
        "df = pd.read_csv('drive/MyDrive/KDDTrain+_20Percent.txt', header=None)\n",
        "dataSet_test = pd.read_csv('drive/MyDrive/KDDTest-21.txt', header=None)\n"
      ],
      "metadata": {
        "id": "6o40ppKCvp2v"
      },
      "execution_count": 10,
      "outputs": []
    },
    {
      "cell_type": "code",
      "source": [
        "#get SYN flood attack series (neptune)\n",
        "normal_val_test=dataSet_test.loc[dataSet_test[CLASSIFIER_COLUMN]=='normal']\n",
        "syn_val_test=dataSet_test.loc[dataSet_test[CLASSIFIER_COLUMN]=='ipsweep']\n",
        "\n",
        "#create a variable withh all data\n",
        "all_data_test=pd.concat([normal_val_test, syn_val_test])"
      ],
      "metadata": {
        "id": "3xXGbm_IggVa"
      },
      "execution_count": 11,
      "outputs": []
    },
    {
      "cell_type": "code",
      "source": [
        "def prepare_labels(df):\n",
        "    categ = df[CLASSIFIER_COLUMN].value_counts()\n",
        "    labels = {}\n",
        "    ctr = 0\n",
        "    for idx in categ.index:\n",
        "        labels[idx] = ctr\n",
        "        ctr += 1\n",
        "\n",
        "        df.loc[(df[CLASSIFIER_COLUMN] == idx), CLASSIFIER_COLUMN] = ctr\n",
        "\n",
        "    return df"
      ],
      "metadata": {
        "id": "yX25og08ht2q"
      },
      "execution_count": 12,
      "outputs": []
    },
    {
      "cell_type": "code",
      "source": [
        "all_data=prepare_labels(all_data_test)\n",
        "all_data[CLASSIFIER_COLUMN]=pd.to_numeric(all_data[CLASSIFIER_COLUMN])"
      ],
      "metadata": {
        "id": "H1CW9TIQh5v-"
      },
      "execution_count": 14,
      "outputs": []
    },
    {
      "cell_type": "code",
      "source": [
        "all_data_test=prepare_labels(all_data_test)\n",
        "all_data_test[CLASSIFIER_COLUMN]=pd.to_numeric(all_data_test[CLASSIFIER_COLUMN])"
      ],
      "metadata": {
        "id": "Z9c5CBmeiQf0"
      },
      "execution_count": 17,
      "outputs": []
    },
    {
      "cell_type": "code",
      "source": [
        ""
      ],
      "metadata": {
        "id": "xXKWDpS_iQQ6"
      },
      "execution_count": null,
      "outputs": []
    }
  ]
}