{
  "nbformat": 4,
  "nbformat_minor": 0,
  "metadata": {
    "colab": {
      "name": "NSLKDDAllClassification.ipynb",
      "provenance": [],
      "collapsed_sections": [],
      "include_colab_link": true
    },
    "kernelspec": {
      "name": "python3",
      "display_name": "Python 3"
    },
    "language_info": {
      "name": "python"
    }
  },
  "cells": [
    {
      "cell_type": "markdown",
      "metadata": {
        "id": "view-in-github",
        "colab_type": "text"
      },
      "source": [
        "<a href=\"https://colab.research.google.com/github/jtunde/Python/blob/main/s2.ipynb\" target=\"_parent\"><img src=\"https://colab.research.google.com/assets/colab-badge.svg\" alt=\"Open In Colab\"/></a>"
      ]
    },
    {
      "cell_type": "code",
      "source": [
        "import pandas as pd\n",
        "import numpy as np\n",
        "import matplotlib.pyplot as plt\n",
        "from sklearn.ensemble import RandomForestClassifier\n",
        "\n",
        "from sklearn.preprocessing import LabelEncoder\n",
        "from sklearn.model_selection import train_test_split\n",
        "from sklearn.preprocessing import StandardScaler\n",
        "from sklearn.cluster import KMeans\n",
        "import math\n",
        "from sklearn.metrics import accuracy_score"
      ],
      "metadata": {
        "id": "cJiZ3EMRlQFp"
      },
      "execution_count": 14,
      "outputs": []
    },
    {
      "cell_type": "code",
      "execution_count": 1,
      "metadata": {
        "id": "8D1iBYAxCh20"
      },
      "outputs": [],
      "source": [
        "def proc_categ(values):\n",
        "    categ = values.value_counts()\n",
        "    count = float(len(values))\n",
        "    res = \"\"\n",
        "    for idx in categ.index:\n",
        "        res += idx\n",
        "        res += \" \" + str(categ[idx]) + \" \" + str(100*round(categ[idx] / count,4)) + \"%, \"\n",
        "    return res\n",
        "\n",
        "def example_plot(normal_values, attack_values):\n",
        "    # Plot a selection of features\n",
        "    fig, axs = plt.subplots(3, 2)\n",
        "\n",
        "    # The first column will plot the normal, the second the attack\n",
        "    axs[0, 0].plot(normal_values[37])#dst_host_serror_rate\n",
        "    axs[0, 0].set_title('Normal: % dest. connections with SYN errors')\n",
        "    axs[0, 1].plot(attack_values[37])#dst_host_serror_rate\n",
        "    axs[0, 1].set_title('Attack: % dest. connections with SYN errors')\n",
        "\n",
        "    axs[1, 0].plot(normal_values[24])#serror_rate\n",
        "    axs[1, 0].set_title('Normal: % connections with SYN errors')\n",
        "    axs[1, 1].plot(attack_values[24])#serror_rate\n",
        "    axs[1, 1].set_title('Attack: % connections with SYN errors')\n",
        "\n",
        "    axs[2, 0].plot(normal_values[4])#src_bytes\n",
        "    axs[2, 0].set_title('Normal: src bytes')\n",
        "    axs[2, 1].plot(attack_values[4])#src_bytes\n",
        "    axs[2, 1].set_title('Attack: src bytes')\n",
        "\n",
        "    plt.show()\n",
        "\n",
        "nls_columns = [\n",
        "    'duration',\n",
        "    'protocol_type',\n",
        "    'service',\n",
        "    'flag',\n",
        "    'src_bytes',\n",
        "    'dst_bytes',\n",
        "    'land',\n",
        "    'wrong_fragment',\n",
        "    'urgent',\n",
        "    'hot',\n",
        "    'num_failed_logins',\n",
        "    'logged_in',\n",
        "    'num_compromised',\n",
        "    'root_shell',\n",
        "    'su_attempted',\n",
        "    'num_root',\n",
        "    'num_file_creations',\n",
        "    'num_shells',\n",
        "    'num_access_files',\n",
        "    'num_outbound_cmds',\n",
        "    'is_host_login',\n",
        "    'is_guest_login',\n",
        "    'count',\n",
        "    'srv_count',\n",
        "    'serror_rate',\n",
        "    'srv_serror_rate',\n",
        "    'rerror_rate',\n",
        "    'srv_rerror_rate',\n",
        "    'same_srv_rate',\n",
        "    'diff_srv_rate',\n",
        "    'srv_diff_host_rate',\n",
        "    'dst_host_count',\n",
        "    'dst_host_srv_count',\n",
        "    'dst_host_same_srv_rate',\n",
        "    'dst_host_diff_srv_rate',\n",
        "    'dst_host_same_src_port_rate',\n",
        "    'dst_host_srv_diff_host_rate',\n",
        "    'dst_host_serror_rate',\n",
        "    'dst_host_srv_serror_rate',\n",
        "    'dst_host_rerror_rate',\n",
        "    'dst_host_srv_rerror_rate',\n",
        "    'class']\n",
        "\n",
        "CLASSIFIER_COLUMN = 41\n"
      ]
    },
    {
      "cell_type": "code",
      "source": [
        "from google.colab import drive\n",
        "drive.mount('/content/drive')"
      ],
      "metadata": {
        "id": "jS2qchOzhNwu",
        "outputId": "0535538f-81ca-46a9-9fde-cb8c03011f87",
        "colab": {
          "base_uri": "https://localhost:8080/"
        }
      },
      "execution_count": 2,
      "outputs": [
        {
          "output_type": "stream",
          "name": "stdout",
          "text": [
            "Mounted at /content/drive\n"
          ]
        }
      ]
    },
    {
      "cell_type": "code",
      "source": [
        "df = pd.read_csv('drive/MyDrive/KDDTrain+_20Percent.txt', header=None)"
      ],
      "metadata": {
        "id": "qmWNg5qWhPjZ"
      },
      "execution_count": 3,
      "outputs": []
    },
    {
      "cell_type": "code",
      "source": [
        "print(df[0:10])\n",
        "print(\"Attack type statistics:\" + proc_categ(df[41]))\n",
        "print(\"Protocol statistics:\" + proc_categ(df[1]))"
      ],
      "metadata": {
        "id": "VmUUYrJiD28C",
        "outputId": "22bb8922-d7b6-4292-ccb0-5f6ea21a5020",
        "colab": {
          "base_uri": "https://localhost:8080/"
        }
      },
      "execution_count": 4,
      "outputs": [
        {
          "output_type": "stream",
          "name": "stdout",
          "text": [
            "   0    1           2    3    4     5   ...    37    38    39    40       41  42\n",
            "0   0  tcp    ftp_data   SF  491     0  ...  0.00  0.00  0.05  0.00   normal  20\n",
            "1   0  udp       other   SF  146     0  ...  0.00  0.00  0.00  0.00   normal  15\n",
            "2   0  tcp     private   S0    0     0  ...  1.00  1.00  0.00  0.00  neptune  19\n",
            "3   0  tcp        http   SF  232  8153  ...  0.03  0.01  0.00  0.01   normal  21\n",
            "4   0  tcp        http   SF  199   420  ...  0.00  0.00  0.00  0.00   normal  21\n",
            "5   0  tcp     private  REJ    0     0  ...  0.00  0.00  1.00  1.00  neptune  21\n",
            "6   0  tcp     private   S0    0     0  ...  1.00  1.00  0.00  0.00  neptune  21\n",
            "7   0  tcp     private   S0    0     0  ...  1.00  1.00  0.00  0.00  neptune  21\n",
            "8   0  tcp  remote_job   S0    0     0  ...  1.00  1.00  0.00  0.00  neptune  21\n",
            "9   0  tcp     private   S0    0     0  ...  1.00  1.00  0.00  0.00  neptune  21\n",
            "\n",
            "[10 rows x 43 columns]\n",
            "Attack type statistics:normal 13449 53.39%, neptune 8282 32.879999999999995%, ipsweep 710 2.82%, satan 691 2.74%, portsweep 587 2.33%, smurf 529 2.1%, nmap 301 1.1900000000000002%, back 196 0.7799999999999999%, teardrop 188 0.75%, warezclient 181 0.72%, pod 38 0.15%, guess_passwd 10 0.04%, warezmaster 7 0.03%, buffer_overflow 6 0.02%, imap 5 0.02%, rootkit 4 0.02%, phf 2 0.01%, multihop 2 0.01%, ftp_write 1 0.0%, loadmodule 1 0.0%, land 1 0.0%, spy 1 0.0%, \n",
            "Protocol statistics:tcp 20526 81.47999999999999%, udp 3011 11.95%, icmp 1655 6.569999999999999%, \n"
          ]
        }
      ]
    },
    {
      "cell_type": "code",
      "source": [
        "normal_val = df.loc[df[41] == 'normal']\n",
        "syn_val = df.loc[df[41] == 'neptune']\n",
        "print(\"NORMAL data count: \" + str(len(normal_val)))\n",
        "print(\"SYN data count: \" + str(len(syn_val)))\n",
        "\n",
        "example_plot(normal_val, syn_val)"
      ],
      "metadata": {
        "id": "Oo-gaHClFBUU",
        "outputId": "6cceb2c6-fe78-46c1-ebca-8f3030ff588f",
        "colab": {
          "base_uri": "https://localhost:8080/",
          "height": 316
        }
      },
      "execution_count": 5,
      "outputs": [
        {
          "output_type": "stream",
          "name": "stdout",
          "text": [
            "NORMAL data count: 13449\n",
            "SYN data count: 8282\n"
          ]
        },
        {
          "output_type": "display_data",
          "data": {
            "image/png": "[encoded data removed]",
            "text/plain": [
              "<Figure size 432x288 with 6 Axes>"
            ]
          },
          "metadata": {
            "needs_background": "light"
          }
        }
      ]
    },
    {
      "cell_type": "code",
      "source": [
        "def prepare_labels(df):\n",
        "    categ = df[CLASSIFIER_COLUMN].value_counts()\n",
        "    labels = {}\n",
        "    ctr = 0\n",
        "    for idx in categ.index:\n",
        "        labels[idx] = ctr\n",
        "        ctr += 1\n",
        "\n",
        "        df.loc[(df[CLASSIFIER_COLUMN] == idx), CLASSIFIER_COLUMN] = ctr\n",
        "\n",
        "    return df\n",
        "\n",
        "# Place integer values in column 41 (the class column)\n",
        "dflab = prepare_labels(df)\n",
        "dflab[CLASSIFIER_COLUMN] = pd.to_numeric(dflab[CLASSIFIER_COLUMN]) # Make it numeric, so that it is not eliminated by the preprocessing!!!\n",
        "print(dflab)"
      ],
      "metadata": {
        "id": "LFObhAdlGe8D",
        "outputId": "6c9ed36b-c58d-4934-ade1-bdea4cea439b",
        "colab": {
          "base_uri": "https://localhost:8080/"
        }
      },
      "execution_count": 6,
      "outputs": [
        {
          "output_type": "stream",
          "name": "stdout",
          "text": [
            "       0    1         2     3    4     5   ...    37    38    39    40  41  42\n",
            "0       0  tcp  ftp_data    SF  491     0  ...  0.00  0.00  0.05  0.00   1  20\n",
            "1       0  udp     other    SF  146     0  ...  0.00  0.00  0.00  0.00   1  15\n",
            "2       0  tcp   private    S0    0     0  ...  1.00  1.00  0.00  0.00   2  19\n",
            "3       0  tcp      http    SF  232  8153  ...  0.03  0.01  0.00  0.01   1  21\n",
            "4       0  tcp      http    SF  199   420  ...  0.00  0.00  0.00  0.00   1  21\n",
            "...    ..  ...       ...   ...  ...   ...  ...   ...   ...   ...   ...  ..  ..\n",
            "25187   0  tcp      exec  RSTO    0     0  ...  0.00  0.00  1.00  1.00   2  19\n",
            "25188   0  tcp  ftp_data    SF  334     0  ...  0.00  0.00  0.00  0.00  10  12\n",
            "25189   0  tcp   private   REJ    0     0  ...  0.00  0.00  1.00  1.00   2  21\n",
            "25190   0  tcp      nnsp    S0    0     0  ...  1.00  1.00  0.00  0.00   2  20\n",
            "25191   0  tcp    finger    S0    0     0  ...  1.00  1.00  0.00  0.00   2  18\n",
            "\n",
            "[25192 rows x 43 columns]\n"
          ]
        }
      ]
    },
    {
      "cell_type": "code",
      "source": [
        "def preproc_data(df):\n",
        "    # We delete columns with 0\n",
        "    df = df.loc[:, (df != 0).any(axis=0)]\n",
        "\n",
        "    # We delete columns with non-numeric values\n",
        "    non_numerical = []\n",
        "    for col in df:\n",
        "        if not pd.api.types.is_numeric_dtype(df[col]):\n",
        "            non_numerical.append(col)\n",
        "    df = df.drop(columns=non_numerical)\n",
        "\n",
        "    # Normalize columns - min-max normalization ([0,1] interval)\n",
        "    for col in df:\n",
        "        if col == CLASSIFIER_COLUMN: # Skip the classifier column\n",
        "            continue\n",
        "        df[col] = (df[col] - df[col].min()) / (df[col].max() - df[col].min())\n",
        "\n",
        "    return df\n",
        "\n",
        "# Remove last column - it contains traffic type, we do not care about that\n",
        "dflab_proc = dflab.iloc[:,:(len(dflab.columns)-1)]\n",
        "\n",
        "# Remove zeros and non-numeric columns\n",
        "dflab_proc = preproc_data(dflab_proc)\n",
        "print(dflab_proc)"
      ],
      "metadata": {
        "id": "EXCpQnnGHSlp",
        "outputId": "757f83c0-f539-40b4-f5c9-7e5c4646d531",
        "colab": {
          "base_uri": "https://localhost:8080/"
        }
      },
      "execution_count": 7,
      "outputs": [
        {
          "output_type": "stream",
          "name": "stdout",
          "text": [
            "        0             4         5    6    7   ...    37    38    39    40  41\n",
            "0      0.0  1.286320e-06  0.000000  0.0  0.0  ...  0.00  0.00  0.05  0.00   1\n",
            "1      0.0  3.824902e-07  0.000000  0.0  0.0  ...  0.00  0.00  0.00  0.00   1\n",
            "2      0.0  0.000000e+00  0.000000  0.0  0.0  ...  1.00  1.00  0.00  0.00   2\n",
            "3      0.0  6.077927e-07  0.001583  0.0  0.0  ...  0.03  0.01  0.00  0.01   1\n",
            "4      0.0  5.213394e-07  0.000082  0.0  0.0  ...  0.00  0.00  0.00  0.00   1\n",
            "...    ...           ...       ...  ...  ...  ...   ...   ...   ...   ...  ..\n",
            "25187  0.0  0.000000e+00  0.000000  0.0  0.0  ...  0.00  0.00  1.00  1.00   2\n",
            "25188  0.0  8.750119e-07  0.000000  0.0  0.0  ...  0.00  0.00  0.00  0.00  10\n",
            "25189  0.0  0.000000e+00  0.000000  0.0  0.0  ...  0.00  0.00  1.00  1.00   2\n",
            "25190  0.0  0.000000e+00  0.000000  0.0  0.0  ...  1.00  1.00  0.00  0.00   2\n",
            "25191  0.0  0.000000e+00  0.000000  0.0  0.0  ...  1.00  1.00  0.00  0.00   2\n",
            "\n",
            "[25192 rows x 37 columns]\n"
          ]
        }
      ]
    },
    {
      "cell_type": "code",
      "source": [
        "# Prepare dataset for training and for testing\n",
        "df_train = dflab_proc.iloc[0:(int(len(dflab_proc.index)/2)),:]\n",
        "df_pred = dflab_proc.iloc[(int(len(dflab_proc.index)/2)):,:]"
      ],
      "metadata": {
        "id": "5gPwpVoxIPtu"
      },
      "execution_count": 8,
      "outputs": []
    },
    {
      "cell_type": "code",
      "source": [
        "# Create model\n",
        "def rand_forest_fit(dfin):\n",
        "    # Perform a random forest-based classification\n",
        "    rf = RandomForestClassifier(n_estimators = 200, random_state = 42, max_depth = 30, min_samples_leaf = 4, min_samples_split = 5, oob_score = True)\n",
        "\n",
        "    # Prepare the data\n",
        "    data_arr = dfin.to_numpy()\n",
        "    nb_cols = numpy.shape(data_arr)[1]\n",
        "\n",
        "    train_data = data_arr[:,0:(nb_cols-2)]\n",
        "    label_data = data_arr[:,nb_cols-1]\n",
        "\n",
        "    print(label_data)\n",
        "\n",
        "    # Now train the model\n",
        "    rf.fit(train_data, label_data)\n",
        "\n",
        "    # Show importance\n",
        "    features = dfin.columns.to_numpy()\n",
        "    features = features[0:-1] # Delete last column - not used as a feature\n",
        "    feat_imp = rf.feature_importances_\n",
        "\n",
        "    feat_sig = [a for a in zip(feat_imp, features)]\n",
        "    # Sort by importance\n",
        "    feat_sig.sort(reverse=True,key = lambda x: x[0])\n",
        "\n",
        "    print(\"IMPORTANCES: \")\n",
        "    for sig, feat in feat_sig:\n",
        "        print(\"{} : {}\".format(nls_columns[feat], sig))\n",
        "\n",
        "    return rf\n",
        "\n",
        "# Train the model\n",
        "rf_model = rand_forest_fit(df_train)"
      ],
      "metadata": {
        "id": "OY3KoTOhIbXq",
        "outputId": "8f2f8010-aeb0-4d7d-b197-fcd7c5e9232a",
        "colab": {
          "base_uri": "https://localhost:8080/"
        }
      },
      "execution_count": 9,
      "outputs": [
        {
          "output_type": "stream",
          "name": "stdout",
          "text": [
            "[1. 1. 2. ... 2. 1. 1.]\n",
            "IMPORTANCES: \n",
            "same_srv_rate : 0.11723286610654304\n",
            "diff_srv_rate : 0.10172233244783924\n",
            "dst_host_serror_rate : 0.07676448784556224\n",
            "dst_bytes : 0.06432620485844344\n",
            "count : 0.06193630404204126\n",
            "dst_host_srv_count : 0.055942167704680426\n",
            "serror_rate : 0.05574323329471942\n",
            "dst_host_srv_serror_rate : 0.05443354383802578\n",
            "dst_host_same_src_port_rate : 0.05259779736272492\n",
            "dst_host_diff_srv_rate : 0.04336535789866115\n",
            "dst_host_same_srv_rate : 0.03869939479223708\n",
            "dst_host_srv_diff_host_rate : 0.03621416140131757\n",
            "srv_serror_rate : 0.03469590310935848\n",
            "srv_count : 0.03344586893417833\n",
            "logged_in : 0.026518214562739884\n",
            "dst_host_count : 0.025241046663214917\n",
            "dst_host_rerror_rate : 0.02487727614124243\n",
            "rerror_rate : 0.024616092552607508\n",
            "src_bytes : 0.020412153017642244\n",
            "srv_rerror_rate : 0.015839509274511835\n",
            "wrong_fragment : 0.011534713678680177\n",
            "srv_diff_host_rate : 0.007760683106105023\n",
            "hot : 0.006260459967520126\n",
            "num_compromised : 0.004707555924557807\n",
            "duration : 0.003980246805991446\n",
            "is_guest_login : 0.0008690488953966088\n",
            "num_root : 9.999398037380192e-05\n",
            "num_failed_logins : 9.12836825636413e-05\n",
            "root_shell : 3.039081084816734e-05\n",
            "num_file_creations : 2.510887719370867e-05\n",
            "num_access_files : 1.2663188612043575e-05\n",
            "num_shells : 3.5987870788165115e-06\n",
            "su_attempted : 3.3644678754480605e-07\n",
            "land : 0.0\n",
            "urgent : 0.0\n"
          ]
        }
      ]
    },
    {
      "cell_type": "code",
      "source": [
        "def rand_forest_predict(rf, df):\n",
        "    # Prepare the data\n",
        "    data_arr = df.to_numpy()\n",
        "    nb_cols = numpy.shape(data_arr)[1]\n",
        "\n",
        "    predict_data = data_arr[:,0:(nb_cols-2)]\n",
        "    label_data = data_arr[:,(nb_cols-1)]\n",
        "\n",
        "    prediction = rf.predict(predict_data)\n",
        "    errors = abs(prediction - label_data)\n",
        "\n",
        "    print('Mean Absolute Error:', round(numpy.mean(errors), 4), 'degrees.')\n",
        "\n",
        "    # Plot a selection of features\n",
        "    fig, axs = plt.subplots(2)\n",
        "\n",
        "    axs[0].plot(prediction)\n",
        "    axs[1].plot(label_data)\n",
        "    plt.show()\n",
        "\n",
        "# Now predict\n",
        "rand_forest_predict(rf_model, df_pred)"
      ],
      "metadata": {
        "id": "WU8fMdwRJ1IK",
        "outputId": "67b06339-1af5-4359-abf9-6c22205af6d1",
        "colab": {
          "base_uri": "https://localhost:8080/",
          "height": 282
        }
      },
      "execution_count": 10,
      "outputs": [
        {
          "output_type": "stream",
          "name": "stdout",
          "text": [
            "Mean Absolute Error: 0.0581 degrees.\n"
          ]
        },
        {
          "output_type": "display_data",
          "data": {
            "image/png": "[encoded data removed]",
            "text/plain": [
              "<Figure size 432x288 with 2 Axes>"
            ]
          },
          "metadata": {
            "needs_background": "light"
          }
        }
      ]
    },
    {
      "cell_type": "code",
      "source": [
        "from sklearn.cluster import KMeans\n",
        "from sklearn import metrics\n",
        "#X = 10 * np.random.randn(100, 2) + 6\n",
        "kmeans_model = KMeans(n_clusters=3, random_state=1)\n",
        "kmeans_model.fit(df_train)\n",
        "labels = kmeans_model.labels_\n",
        "s = metrics.silhouette_score(df_train, labels, metric='euclidean')\n",
        "print(s)"
      ],
      "metadata": {
        "id": "GT1BxVx0iyYY",
        "outputId": "47cf01c4-9330-49d4-edf9-7aee46fb1eaa",
        "colab": {
          "base_uri": "https://localhost:8080/"
        }
      },
      "execution_count": 11,
      "outputs": [
        {
          "output_type": "stream",
          "name": "stdout",
          "text": [
            "0.5266005661290648\n"
          ]
        }
      ]
    },
    {
      "cell_type": "code",
      "source": [
        "scaler = StandardScaler()\n",
        "X_train = scaler.fit_transform(df_train)\n",
        "X_test = scaler.transform(df_pred)"
      ],
      "metadata": {
        "id": "4TWhov7enBW0"
      },
      "execution_count": 20,
      "outputs": []
    },
    {
      "cell_type": "code",
      "source": [
        "K_cent= 8\n",
        "km= KMeans(n_clusters= K_cent, max_iter= 100)\n",
        "km.fit(X_train)\n",
        "cent= km.cluster_centers_"
      ],
      "metadata": {
        "id": "t8xDYo6qjV5m"
      },
      "execution_count": 21,
      "outputs": []
    },
    {
      "cell_type": "code",
      "source": [
        "max=0 \n",
        "for i in range(K_cent):\n",
        "\tfor j in range(K_cent):\n",
        "\t\td= np.linalg.norm(cent[i]-cent[j])\n",
        "\t\tif(d> max):\n",
        "\t\t\tmax= d\n",
        "d= max\n",
        "\n",
        "sigma= d/math.sqrt(2*K_cent)"
      ],
      "metadata": {
        "id": "sdlcoOjJk-CN"
      },
      "execution_count": 22,
      "outputs": []
    },
    {
      "cell_type": "code",
      "source": [
        "shape= X_train.shape\n",
        "row= shape[0]\n",
        "column= K_cent\n",
        "G= np.empty((row,column), dtype= float)"
      ],
      "metadata": {
        "id": "q2wYRM6zliXy"
      },
      "execution_count": 23,
      "outputs": []
    },
    {
      "cell_type": "code",
      "source": [
        "for i in range(row):\n",
        "  for j in range(column):\n",
        "    dist= np.linalg.norm(X_train[i]-cent[j])\n",
        "    G[i][j]= math.exp(-math.pow(dist,2)/math.pow(2*sigma,2))"
      ],
      "metadata": {
        "id": "Vu1XSC27lvfS"
      },
      "execution_count": 24,
      "outputs": []
    },
    {
      "cell_type": "code",
      "source": [
        "GTG= np.dot(G.T,G)\n",
        "GTG_inv= np.linalg.inv(GTG)\n",
        "fac= np.dot(GTG_inv,G.T)\n",
        "W= np.dot(fac,X_train)"
      ],
      "metadata": {
        "id": "rLXM5GfMnZ9U"
      },
      "execution_count": 25,
      "outputs": []
    },
    {
      "cell_type": "code",
      "source": [
        "row= X_test.shape[0]\n",
        "column= K_cent\n",
        "G_test= np.empty((row,column), dtype= float)\n",
        "for i in range(row):\n",
        "\tfor j in range(column):\n",
        "\t\tdist= np.linalg.norm(X_test[i]-cent[j])\n",
        "\t\tG_test[i][j]= math.exp(-math.pow(dist,2)/math.pow(2*sigma,2))"
      ],
      "metadata": {
        "id": "42HaCcV5o05Z"
      },
      "execution_count": 26,
      "outputs": []
    },
    {
      "cell_type": "code",
      "source": [
        "prediction= np.dot(G_test,W)\n",
        "prediction= 0.5*(np.sign(prediction-0.5)+1)\n",
        "\n",
        "score= accuracy_score(prediction,_pred)\n",
        "print(score.mean())"
      ],
      "metadata": {
        "id": "anaU020so8W7",
        "outputId": "a1889651-2508-4f29-9c15-082972366872",
        "colab": {
          "base_uri": "https://localhost:8080/",
          "height": 217
        }
      },
      "execution_count": 31,
      "outputs": [
        {
          "output_type": "error",
          "ename": "NameError",
          "evalue": "ignored",
          "traceback": [
            "\u001b[0;31m---------------------------------------------------------------------------\u001b[0m",
            "\u001b[0;31mNameError\u001b[0m                                 Traceback (most recent call last)",
            "\u001b[0;32m<ipython-input-31-da8edfa32bb5>\u001b[0m in \u001b[0;36m<module>\u001b[0;34m()\u001b[0m\n\u001b[1;32m      2\u001b[0m \u001b[0mprediction\u001b[0m\u001b[0;34m=\u001b[0m \u001b[0;36m0.5\u001b[0m\u001b[0;34m*\u001b[0m\u001b[0;34m(\u001b[0m\u001b[0mnp\u001b[0m\u001b[0;34m.\u001b[0m\u001b[0msign\u001b[0m\u001b[0;34m(\u001b[0m\u001b[0mprediction\u001b[0m\u001b[0;34m-\u001b[0m\u001b[0;36m0.5\u001b[0m\u001b[0;34m)\u001b[0m\u001b[0;34m+\u001b[0m\u001b[0;36m1\u001b[0m\u001b[0;34m)\u001b[0m\u001b[0;34m\u001b[0m\u001b[0;34m\u001b[0m\u001b[0m\n\u001b[1;32m      3\u001b[0m \u001b[0;34m\u001b[0m\u001b[0m\n\u001b[0;32m----> 4\u001b[0;31m \u001b[0mscore\u001b[0m\u001b[0;34m=\u001b[0m \u001b[0maccuracy_score\u001b[0m\u001b[0;34m(\u001b[0m\u001b[0mprediction\u001b[0m\u001b[0;34m,\u001b[0m\u001b[0mX_pred\u001b[0m\u001b[0;34m)\u001b[0m\u001b[0;34m\u001b[0m\u001b[0;34m\u001b[0m\u001b[0m\n\u001b[0m\u001b[1;32m      5\u001b[0m \u001b[0mprint\u001b[0m\u001b[0;34m(\u001b[0m\u001b[0mscore\u001b[0m\u001b[0;34m.\u001b[0m\u001b[0mmean\u001b[0m\u001b[0;34m(\u001b[0m\u001b[0;34m)\u001b[0m\u001b[0;34m)\u001b[0m\u001b[0;34m\u001b[0m\u001b[0;34m\u001b[0m\u001b[0m\n",
            "\u001b[0;31mNameError\u001b[0m: name 'X_pred' is not defined"
          ]
        }
      ]
    }
  ]
}
