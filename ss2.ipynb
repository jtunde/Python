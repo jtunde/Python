{
  "nbformat": 4,
  "nbformat_minor": 0,
  "metadata": {
    "colab": {
      "name": "Untitled15.ipynb",
      "provenance": [],
      "authorship_tag": "ABX9TyNEqfBgFlqL6BTVyVwtPI6l",
      "include_colab_link": true
    },
    "kernelspec": {
      "name": "python3",
      "display_name": "Python 3"
    },
    "language_info": {
      "name": "python"
    }
  },
  "cells": [
    {
      "cell_type": "markdown",
      "metadata": {
        "id": "view-in-github",
        "colab_type": "text"
      },
      "source": [
        "<a href=\"https://colab.research.google.com/github/jtunde/Python/blob/main/ss2.ipynb\" target=\"_parent\"><img src=\"https://colab.research.google.com/assets/colab-badge.svg\" alt=\"Open In Colab\"/></a>"
      ]
    },
    {
      "cell_type": "code",
      "execution_count": 8,
      "metadata": {
        "id": "0UZhiX18uPUp"
      },
      "outputs": [],
      "source": [
        "import pandas as pd\n",
        "import numpy\n",
        "from numpy import array\n",
        "import matplotlib.pyplot as plt\n",
        "from keras.models import Sequential\n",
        "from keras.layers import Dense\n",
        "\n",
        "from sklearn.ensemble import RandomForestClassifier"
      ]
    },
    {
      "cell_type": "code",
      "source": [
        "nls_columns = [\n",
        "    'duration',\n",
        "    'protocol_type',\n",
        "    'service',\n",
        "    'flag',\n",
        "    'src_bytes',\n",
        "    'dst_bytes',\n",
        "    'land',\n",
        "    'wrong_fragment',\n",
        "    'urgent',\n",
        "    'hot',\n",
        "    'num_failed_logins',\n",
        "    'logged_in',\n",
        "    'num_compromised',\n",
        "    'root_shell',\n",
        "    'su_attempted',\n",
        "    'num_root',\n",
        "    'num_file_creations',\n",
        "    'num_shells',\n",
        "    'num_access_files',\n",
        "    'num_outbound_cmds',\n",
        "    'is_host_login',\n",
        "    'is_guest_login',\n",
        "    'count',\n",
        "    'srv_count',\n",
        "    'serror_rate',\n",
        "    'srv_serror_rate',\n",
        "    'rerror_rate',\n",
        "    'srv_rerror_rate',\n",
        "    'same_srv_rate',\n",
        "    'diff_srv_rate',\n",
        "    'srv_diff_host_rate',\n",
        "    'dst_host_count',\n",
        "    'dst_host_srv_count',\n",
        "    'dst_host_same_srv_rate',\n",
        "    'dst_host_diff_srv_rate',\n",
        "    'dst_host_same_src_port_rate',\n",
        "    'dst_host_srv_diff_host_rate',\n",
        "    'dst_host_serror_rate',\n",
        "    'dst_host_srv_serror_rate',\n",
        "    'dst_host_rerror_rate',\n",
        "    'dst_host_srv_rerror_rate',\n",
        "    'class']\n",
        "\n",
        "CLASSIFIER_COLUMN = 41"
      ],
      "metadata": {
        "id": "NK7FleDuvRZG"
      },
      "execution_count": 9,
      "outputs": []
    },
    {
      "cell_type": "code",
      "source": [
        "from google.colab import drive\n",
        "drive.mount('/content/drive')"
      ],
      "metadata": {
        "id": "LzII0a2hvlZ4",
        "colab": {
          "base_uri": "https://localhost:8080/"
        },
        "outputId": "9f633fa0-6786-402a-9b19-46dd50dc6a8d"
      },
      "execution_count": 4,
      "outputs": [
        {
          "output_type": "stream",
          "name": "stdout",
          "text": [
            "Mounted at /content/drive\n"
          ]
        }
      ]
    },
    {
      "cell_type": "code",
      "source": [
        "df = pd.read_csv('drive/MyDrive/KDDTrain+_20Percent.txt', header=None)\n",
        "dataSet_test = pd.read_csv('drive/MyDrive/KDDTest-21.txt', header=None)\n"
      ],
      "metadata": {
        "id": "6o40ppKCvp2v"
      },
      "execution_count": 10,
      "outputs": []
    },
    {
      "cell_type": "code",
      "source": [
        "#get SYN flood attack series (neptune)\n",
        "normal_val_test=dataSet_test.loc[dataSet_test[CLASSIFIER_COLUMN]=='normal']\n",
        "syn_val_test=dataSet_test.loc[dataSet_test[CLASSIFIER_COLUMN]=='ipsweep']\n",
        "\n",
        "#create a variable withh all data\n",
        "all_data_test=pd.concat([normal_val_test, syn_val_test])"
      ],
      "metadata": {
        "id": "3xXGbm_IggVa"
      },
      "execution_count": 11,
      "outputs": []
    },
    {
      "cell_type": "code",
      "source": [
        "def prepare_labels(df):\n",
        "    categ = df[CLASSIFIER_COLUMN].value_counts()\n",
        "    labels = {}\n",
        "    ctr = 0\n",
        "    for idx in categ.index:\n",
        "        labels[idx] = ctr\n",
        "        ctr += 1\n",
        "\n",
        "        df.loc[(df[CLASSIFIER_COLUMN] == idx), CLASSIFIER_COLUMN] = ctr\n",
        "\n",
        "    return df"
      ],
      "metadata": {
        "id": "yX25og08ht2q"
      },
      "execution_count": 12,
      "outputs": []
    },
    {
      "cell_type": "code",
      "source": [
        "all_data=prepare_labels(all_data_test)\n",
        "all_data[CLASSIFIER_COLUMN]=pd.to_numeric(all_data[CLASSIFIER_COLUMN])"
      ],
      "metadata": {
        "id": "H1CW9TIQh5v-"
      },
      "execution_count": 14,
      "outputs": []
    },
    {
      "cell_type": "code",
      "source": [
        "all_data_test=prepare_labels(all_data_test)\n",
        "all_data_test[CLASSIFIER_COLUMN]=pd.to_numeric(all_data_test[CLASSIFIER_COLUMN])"
      ],
      "metadata": {
        "id": "Z9c5CBmeiQf0"
      },
      "execution_count": 17,
      "outputs": []
    },
    {
      "cell_type": "code",
      "source": [
        "def preproc_data(df):\n",
        "    # We delete columns with 0\n",
        "    df = df.loc[:, (df != 0).any(axis=0)]\n",
        "\n",
        "    # We delete columns with non-numeric values\n",
        "    non_numerical = []\n",
        "    for col in df:\n",
        "        if not pd.api.types.is_numeric_dtype(df[col]):\n",
        "            non_numerical.append(col)\n",
        "    df = df.drop(columns=non_numerical)\n",
        "    return df"
      ],
      "metadata": {
        "id": "xXKWDpS_iQQ6"
      },
      "execution_count": 20,
      "outputs": []
    },
    {
      "cell_type": "code",
      "source": [
        "all_data=preproc_data(all_data)\n",
        "print(all_data)"
      ],
      "metadata": {
        "colab": {
          "base_uri": "https://localhost:8080/"
        },
        "id": "_ARFuICQlrLT",
        "outputId": "a4007fd4-9a09-4310-8749-64c28c7c185a"
      },
      "execution_count": 21,
      "outputs": [
        {
          "output_type": "stream",
          "name": "stdout",
          "text": [
            "       0    4   5   7   9   10  11  12  ...    35    36   37   38    39   40  41  42\n",
            "3       0   53  55   0   0   0   0   0  ...  0.87  0.00  0.0  0.0  0.00  0.0   1  17\n",
            "8       0   56  52   0   0   0   0   0  ...  0.93  0.00  0.0  0.0  0.00  0.0   1  17\n",
            "9       0  192   0   0   0   0   0   0  ...  0.09  0.04  0.0  0.0  0.01  0.0   1  20\n",
            "28      0   43  43   0   0   0   0   0  ...  0.25  0.00  0.0  0.0  0.00  0.0   1  18\n",
            "32      0   44  44   0   0   0   0   0  ...  0.00  0.00  0.0  0.0  0.00  0.0   1  18\n",
            "...    ..  ...  ..  ..  ..  ..  ..  ..  ...   ...   ...  ...  ...   ...  ...  ..  ..\n",
            "11548   0   18   0   0   0   0   0   0  ...  1.00  1.00  0.0  0.0  0.00  0.0   2  17\n",
            "11552   0    8   0   0   0   0   0   0  ...  1.00  0.51  0.0  0.0  0.00  0.0   2  17\n",
            "11578   0    8   0   0   0   0   0   0  ...  1.00  0.57  0.0  0.0  0.00  0.0   2  15\n",
            "11778   0   18   0   0   0   0   0   0  ...  1.00  1.00  0.0  0.0  0.00  0.0   2  18\n",
            "11838   0   18   0   0   0   0   0   0  ...  1.00  1.00  0.0  0.0  0.00  0.0   2  18\n",
            "\n",
            "[2293 rows x 35 columns]\n"
          ]
        }
      ]
    },
    {
      "cell_type": "code",
      "source": [
        "all_data_test=preproc_data(all_data-test)\n",
        "print(all_data_test)"
      ],
      "metadata": {
        "id": "WGsHV4RBl_UP"
      },
      "execution_count": null,
      "outputs": []
    },
    {
      "cell_type": "code",
      "source": [
        "def neural_network_fit(df,activation_function,loss_error,batch_size_value,number_of_epochs,neurons_on_hidden_layout):\n",
        "  data_arr=df.to_numpy()\n",
        "  nb_cols=numpy.shape(data_arr)[1]\n",
        "\n",
        "  model=Sequential()\n",
        "  model.add(Dense(neurons_on_hidden_layout,activation=activation_function,input_dim=nb_cols-2))\n",
        "  model.add(Dense(1))\n",
        "  model.compile(optimizer='adam',loss=loss_error)\n",
        "\n",
        "  train_data=data_arr[:,0:(nb_cols-2)]\n",
        "  label_data=data_arr[:,(nb_cols-2)]\n",
        "\n",
        "  epoch_error=model.fit(train_data,label_data,batch_size=batch_size_value, epochs=number_of_epochs,verbose=1)\n",
        "  return model,epoch_error"
      ],
      "metadata": {
        "id": "MiIO2QH_mzna"
      },
      "execution_count": 24,
      "outputs": []
    },
    {
      "cell_type": "code",
      "source": [
        "neural_model, epoch_error=neural_network_fit(all_data,\"sigmoid\",\"mae\",20,20,50)\n",
        "plt.plot(epoch_error.history[\"loss\"])"
      ],
      "metadata": {
        "colab": {
          "base_uri": "https://localhost:8080/",
          "height": 976
        },
        "id": "Gbh4Q4g-q0Sg",
        "outputId": "beb41463-5cfe-4882-e13a-4947326dd6e4"
      },
      "execution_count": 25,
      "outputs": [
        {
          "output_type": "stream",
          "name": "stdout",
          "text": [
            "Epoch 1/20\n",
            "115/115 [==============================] - 1s 1ms/step - loss: 1.0968\n",
            "Epoch 2/20\n",
            "115/115 [==============================] - 0s 1ms/step - loss: 0.1099\n",
            "Epoch 3/20\n",
            "115/115 [==============================] - 0s 1ms/step - loss: 0.0689\n",
            "Epoch 4/20\n",
            "115/115 [==============================] - 0s 1ms/step - loss: 0.0544\n",
            "Epoch 5/20\n",
            "115/115 [==============================] - 0s 2ms/step - loss: 0.0480\n",
            "Epoch 6/20\n",
            "115/115 [==============================] - 0s 1ms/step - loss: 0.0448\n",
            "Epoch 7/20\n",
            "115/115 [==============================] - 0s 1ms/step - loss: 0.0393\n",
            "Epoch 8/20\n",
            "115/115 [==============================] - 0s 1ms/step - loss: 0.0385\n",
            "Epoch 9/20\n",
            "115/115 [==============================] - 0s 1ms/step - loss: 0.0370\n",
            "Epoch 10/20\n",
            "115/115 [==============================] - 0s 1ms/step - loss: 0.0342\n",
            "Epoch 11/20\n",
            "115/115 [==============================] - 0s 1ms/step - loss: 0.0340\n",
            "Epoch 12/20\n",
            "115/115 [==============================] - 0s 1ms/step - loss: 0.0336\n",
            "Epoch 13/20\n",
            "115/115 [==============================] - 0s 1ms/step - loss: 0.0356\n",
            "Epoch 14/20\n",
            "115/115 [==============================] - 0s 1ms/step - loss: 0.0368\n",
            "Epoch 15/20\n",
            "115/115 [==============================] - 0s 1ms/step - loss: 0.0333\n",
            "Epoch 16/20\n",
            "115/115 [==============================] - 0s 1ms/step - loss: 0.0307\n",
            "Epoch 17/20\n",
            "115/115 [==============================] - 0s 1ms/step - loss: 0.0284\n",
            "Epoch 18/20\n",
            "115/115 [==============================] - 0s 1ms/step - loss: 0.0283\n",
            "Epoch 19/20\n",
            "115/115 [==============================] - 0s 1ms/step - loss: 0.0282\n",
            "Epoch 20/20\n",
            "115/115 [==============================] - 0s 1ms/step - loss: 0.0257\n"
          ]
        },
        {
          "output_type": "execute_result",
          "data": {
            "text/plain": [
              "[<matplotlib.lines.Line2D at 0x7f241686c0d0>]"
            ]
          },
          "metadata": {},
          "execution_count": 25
        },
        {
          "output_type": "display_data",
          "data": {
            "image/png": "[encoded data removed]",
            "text/plain": [
              "<Figure size 432x288 with 1 Axes>"
            ]
          },
          "metadata": {
            "needs_background": "light"
          }
        }
      ]
    },
    {
      "cell_type": "code",
      "source": [
        "def neural_networc_predict(neural_model, dataSet):\n",
        "    # Prepare the data\n",
        "    data_arr = dataSet.to_numpy()\n",
        "    nb_cols = numpy.shape(data_arr)[1]\n",
        "\n",
        "    predict_data = data_arr[:,0:(nb_cols-2)]\n",
        "    label_data = data_arr[:,(nb_cols-1)]\n",
        "\n",
        "    prediction = neural_model.predict(predict_data)\n",
        "    errors = abs(prediction - label_data)\n",
        "\n",
        "    print('Mean Absolute Error:', round(numpy.mean(errors), 4), 'degrees.')\n",
        "\n",
        "    # Plot a selection of features\n",
        "    fig, axs = plt.subplots(2)\n",
        "\n",
        "    axs[0].plot(prediction)\n",
        "    axs[1].plot(label_data)\n",
        "    plt.show()\n",
        "\n",
        "# Now predict\n"
      ],
      "metadata": {
        "id": "YkEBt7wctdle"
      },
      "execution_count": 26,
      "outputs": []
    },
    {
      "cell_type": "code",
      "source": [
        "neural_networc_predict(neural_model, all_data)"
      ],
      "metadata": {
        "colab": {
          "base_uri": "https://localhost:8080/",
          "height": 282
        },
        "id": "zauCygqsuOYh",
        "outputId": "d0442d3d-8349-403e-bf35-ec72a82f36ae"
      },
      "execution_count": 28,
      "outputs": [
        {
          "output_type": "stream",
          "name": "stdout",
          "text": [
            "Mean Absolute Error: 15.2869 degrees.\n"
          ]
        },
        {
          "output_type": "display_data",
          "data": {
            "image/png": "[encoded data removed]",
            "text/plain": [
              "<Figure size 432x288 with 2 Axes>"
            ]
          },
          "metadata": {
            "needs_background": "light"
          }
        }
      ]
    }
  ]
}