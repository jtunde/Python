{
  "nbformat": 4,
  "nbformat_minor": 0,
  "metadata": {
    "colab": {
      "name": "Untitled10.ipynb",
      "provenance": [],
      "authorship_tag": "ABX9TyNW2wx7CVUIkPbpwA1mDcjZ",
      "include_colab_link": true
    },
    "kernelspec": {
      "name": "python3",
      "display_name": "Python 3"
    },
    "language_info": {
      "name": "python"
    }
  },
  "cells": [
    {
      "cell_type": "markdown",
      "metadata": {
        "id": "view-in-github",
        "colab_type": "text"
      },
      "source": [
        "<a href=\"https://colab.research.google.com/github/jtunde/Python/blob/main/c3%20RBF.ipynb\" target=\"_parent\"><img src=\"https://colab.research.google.com/assets/colab-badge.svg\" alt=\"Open In Colab\"/></a>"
      ]
    },
    {
      "cell_type": "code",
      "execution_count": 1,
      "metadata": {
        "id": "5tzRyw_WjOgW"
      },
      "outputs": [],
      "source": [
        "import pandas as pd\n",
        "import numpy as np\n",
        "from sklearn.preprocessing import LabelEncoder\n",
        "from sklearn.model_selection import train_test_split\n",
        "from sklearn.preprocessing import StandardScaler\n",
        "from sklearn.cluster import KMeans\n",
        "import math\n",
        "from sklearn.metrics import accuracy_score"
      ]
    },
    {
      "cell_type": "code",
      "source": [
        "from google.colab import drive\n",
        "drive.mount('/content/drive')"
      ],
      "metadata": {
        "colab": {
          "base_uri": "https://localhost:8080/"
        },
        "id": "6xd3EBSYkB89",
        "outputId": "ba1981d5-0f89-432a-bbe0-f2734121effa"
      },
      "execution_count": 2,
      "outputs": [
        {
          "output_type": "stream",
          "name": "stdout",
          "text": [
            "Mounted at /content/drive\n"
          ]
        }
      ]
    },
    {
      "cell_type": "code",
      "source": [
        "data = pd.read_csv('drive/MyDrive/data.csv')\n",
        "print(data.head())"
      ],
      "metadata": {
        "colab": {
          "base_uri": "https://localhost:8080/"
        },
        "id": "MXeTTjuTkIj3",
        "outputId": "2aae19c8-aba0-4313-ceef-386c60f2c1d0"
      },
      "execution_count": 5,
      "outputs": [
        {
          "output_type": "stream",
          "name": "stdout",
          "text": [
            "         TIME     RON\n",
            "0  2021-01-01  4.9493\n",
            "1  2021-01-02  4.9493\n",
            "2  2021-01-03  4.9493\n",
            "3  2021-01-04  4.8713\n",
            "4  2021-01-05  4.8721\n"
          ]
        }
      ]
    },
    {
      "cell_type": "code",
      "source": [
        "data.index = pd.to_datetime(data['TIME'], format='%Y-%m-%d')"
      ],
      "metadata": {
        "id": "q_fQspCAm3RC"
      },
      "execution_count": 7,
      "outputs": []
    },
    {
      "cell_type": "code",
      "source": [
        ""
      ],
      "metadata": {
        "id": "f31k1m0vmj7p",
        "outputId": "80635a1a-bd72-426d-b26c-73aa2ed89bd1",
        "colab": {
          "base_uri": "https://localhost:8080/"
        }
      },
      "execution_count": 8,
      "outputs": [
        {
          "output_type": "stream",
          "name": "stdout",
          "text": [
            "                  TIME     RON\n",
            "TIME                          \n",
            "2021-01-01  2021-01-01  4.9493\n",
            "2021-01-02  2021-01-02  4.9493\n",
            "2021-01-03  2021-01-03  4.9493\n",
            "2021-01-04  2021-01-04  4.8713\n",
            "2021-01-05  2021-01-05  4.8721\n",
            "...                ...     ...\n",
            "2021-09-26  2021-09-26  4.9508\n",
            "2021-09-27  2021-09-27  4.9495\n",
            "2021-09-28  2021-09-28  4.9498\n",
            "2021-09-29  2021-09-29  4.9460\n",
            "2021-09-30  2021-09-30  4.9475\n",
            "\n",
            "[273 rows x 2 columns]\n"
          ]
        }
      ]
    }
  ]
}