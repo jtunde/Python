{
  "nbformat": 4,
  "nbformat_minor": 0,
  "metadata": {
    "colab": {
      "name": "Untitled10.ipynb",
      "provenance": [],
      "authorship_tag": "ABX9TyPKDMC9Ko75UZ8jc+d4DP+W",
      "include_colab_link": true
    },
    "kernelspec": {
      "name": "python3",
      "display_name": "Python 3"
    },
    "language_info": {
      "name": "python"
    }
  },
  "cells": [
    {
      "cell_type": "markdown",
      "metadata": {
        "id": "view-in-github",
        "colab_type": "text"
      },
      "source": [
        "<a href=\"https://colab.research.google.com/github/jtunde/Python/blob/main/c3%20RBF.ipynb\" target=\"_parent\"><img src=\"https://colab.research.google.com/assets/colab-badge.svg\" alt=\"Open In Colab\"/></a>"
      ]
    },
    {
      "cell_type": "code",
      "execution_count": 67,
      "metadata": {
        "id": "5tzRyw_WjOgW"
      },
      "outputs": [],
      "source": [
        "import pandas as pd\n",
        "import numpy as np\n",
        "from sklearn.preprocessing import LabelEncoder\n",
        "from sklearn.model_selection import train_test_split\n",
        "from sklearn.preprocessing import StandardScaler\n",
        "from sklearn.cluster import KMeans\n",
        "import math\n",
        "from sklearn.metrics import accuracy_score"
      ]
    },
    {
      "cell_type": "code",
      "source": [
        "from google.colab import drive\n",
        "drive.mount('/content/drive')"
      ],
      "metadata": {
        "colab": {
          "base_uri": "https://localhost:8080/"
        },
        "id": "6xd3EBSYkB89",
        "outputId": "11eaac8b-4310-4271-f188-6dfc7dfd1333"
      },
      "execution_count": 68,
      "outputs": [
        {
          "output_type": "stream",
          "name": "stdout",
          "text": [
            "Drive already mounted at /content/drive; to attempt to forcibly remount, call drive.mount(\"/content/drive\", force_remount=True).\n"
          ]
        }
      ]
    },
    {
      "cell_type": "code",
      "source": [
        "data = pd.read_csv('drive/MyDrive/data.csv')\n",
        "#print(data.head())\n",
        "date=list(data['RON'])\n",
        "print(date)"
      ],
      "metadata": {
        "colab": {
          "base_uri": "https://localhost:8080/"
        },
        "id": "MXeTTjuTkIj3",
        "outputId": "9499a132-66ad-49d6-cd82-e243bdce078d"
      },
      "execution_count": 69,
      "outputs": [
        {
          "output_type": "stream",
          "name": "stdout",
          "text": [
            "[4.9493, 4.9493, 4.9493, 4.8713, 4.8721, 4.872, 4.8712, 4.8708, 4.8708, 4.8708, 4.8705, 4.8713, 4.8725, 4.8738, 4.8733, 4.8733, 4.8733, 4.8743, 4.8744, 4.8738, 4.874, 4.874, 4.874, 4.874, 4.8744, 4.8748, 4.8753, 4.8761, 4.875, 4.875, 4.875, 4.8735, 4.8743, 4.8734, 4.8755, 4.8747, 4.8747, 4.8747, 4.8748, 4.8753, 4.8752, 4.8745, 4.8746, 4.8746, 4.8746, 4.8753, 4.876, 4.875, 4.8751, 4.8758, 4.8758, 4.8758, 4.8758, 4.876, 4.8749, 4.8748, 4.875, 4.875, 4.875, 4.8749, 4.8762, 4.8775, 4.8813, 4.8813, 4.8813, 4.8813, 4.8852, 4.887, 4.8865, 4.884, 4.885, 4.885, 4.885, 4.8845, 4.8868, 4.8874, 4.8858, 4.8853, 4.8853, 4.8853, 4.8862, 4.8893, 4.888, 4.8865, 4.8878, 4.8878, 4.8878, 4.9025, 4.921, 4.9223, 4.9088, 4.9088, 4.9088, 4.9088, 4.9088, 4.9175, 4.9185, 4.9198, 4.9198, 4.9198, 4.9198, 4.9203, 4.9223, 4.924, 4.925, 4.9263, 4.9263, 4.9263, 4.926, 4.9278, 4.926, 4.9274, 4.9245, 4.9245, 4.9245, 4.9233, 4.9253, 4.9288, 4.9227, 4.9285, 4.9285, 4.9285, 4.9269, 4.9275, 4.9271, 4.9264, 4.9265, 4.9265, 4.9265, 4.9248, 4.927, 4.9263, 4.9273, 4.9259, 4.9259, 4.9259, 4.9259, 4.9273, 4.9278, 4.9278, 4.9268, 4.9268, 4.9268, 4.9255, 4.925, 4.918, 4.9161, 4.9196, 4.9196, 4.9196, 4.9195, 4.9191, 4.9208, 4.922, 4.923, 4.923, 4.923, 4.9234, 4.9238, 4.9248, 4.9223, 4.9183, 4.9183, 4.9183, 4.9203, 4.9243, 4.9236, 4.9243, 4.9249, 4.9249, 4.9249, 4.9237, 4.9255, 4.9263, 4.9245, 4.9263, 4.9263, 4.9263, 4.9268, 4.9275, 4.928, 4.9275, 4.9283, 4.9283, 4.9283, 4.9261, 4.9264, 4.9268, 4.9272, 4.9286, 4.9286, 4.9286, 4.928, 4.9276, 4.9287, 4.929, 4.9285, 4.9285, 4.9285, 4.9268, 4.9255, 4.9255, 4.9227, 4.9227, 4.9227, 4.9227, 4.9223, 4.9196, 4.9213, 4.9215, 4.9203, 4.9203, 4.9203, 4.918, 4.9183, 4.9185, 4.9159, 4.916, 4.916, 4.916, 4.9134, 4.916, 4.9163, 4.9145, 4.9115, 4.9115, 4.9115, 4.9138, 4.9256, 4.9254, 4.9295, 4.9344, 4.9344, 4.9344, 4.9294, 4.928, 4.929, 4.9318, 4.934, 4.934, 4.934, 4.9343, 4.9359, 4.9346, 4.9393, 4.9438, 4.9438, 4.9438, 4.9478, 4.9506, 4.9495, 4.9466, 4.9413, 4.9413, 4.9413, 4.9453, 4.9485, 4.9485, 4.9488, 4.9488, 4.9488, 4.9488, 4.9493, 4.9497, 4.9505, 4.9503, 4.9508, 4.9508, 4.9508, 4.9495, 4.9498, 4.946, 4.9475, 4.947, 4.947, 4.947, 4.9478, 4.9477, 4.9458, 4.9475, 4.9483, 4.9483, 4.9483, 4.9493, 4.9499, 4.949, 4.95, 4.9465, 4.9465, 4.9465, 4.949, 4.9488, 4.9487, 4.9467, 4.9454, 4.9454, 4.9454, 4.9475, 4.9468, 4.9484, 4.9495, 4.9493, 4.9493, 4.9493, 4.9493, 4.95, 4.9494, 4.9494, 4.9496, 4.9496, 4.9496, 4.9491, 4.9476, 4.9496, 4.9474, 4.9488, 4.9488, 4.9488, 4.9496, 4.9493, 4.9493, 4.9497, 4.9495, 4.9495, 4.9495, 4.9496, 4.9495, 4.9493, 4.9494, 4.9498, 4.9498, 4.9498, 4.9498, 4.951, 4.9467, 4.9488, 4.9493]\n"
          ]
        }
      ]
    },
    {
      "cell_type": "code",
      "source": [
        "X_train, X_test= train_test_split(date, test_size= 0.2, random_state= 4)\n",
        "#print(X_train)\n",
        "#print(len(X_train))\n",
        "#print(X_test)\n",
        "#print(len(X_test))\n",
        "X_train=X_train[:256]\n",
        "X_test=X_test[:64]\n",
        "y_test=X_test\n",
        "print(len(X_train))\n",
        "print(len(X_test))\n",
        "X_train=np.array(X_train)\n",
        "X_test=np.array(X_test)\n",
        "#print(X_train)\n",
        "X_train = np.reshape(X_train, (16, 16))\n",
        "#print(X_train)\n",
        "#X_test = np.reshape(X_test, (8, 8))"
      ],
      "metadata": {
        "id": "2iNtloyBnsfP",
        "colab": {
          "base_uri": "https://localhost:8080/"
        },
        "outputId": "c4b40a3e-c18e-4a73-87bd-944609790460"
      },
      "execution_count": 70,
      "outputs": [
        {
          "output_type": "stream",
          "name": "stdout",
          "text": [
            "256\n",
            "64\n"
          ]
        }
      ]
    },
    {
      "cell_type": "code",
      "source": [
        "K_cent= 8\n",
        "km= KMeans(n_clusters= K_cent, max_iter= 100)\n",
        "km.fit(X_train)\n",
        "cent= km.cluster_centers_"
      ],
      "metadata": {
        "id": "ZPdMaVuWlL0w"
      },
      "execution_count": 71,
      "outputs": []
    },
    {
      "cell_type": "code",
      "source": [
        "max=0 \n",
        "for i in range(K_cent):\n",
        "\tfor j in range(K_cent):\n",
        "\t\td= np.linalg.norm(cent[i]-cent[j])\n",
        "\t\tif(d> max):\n",
        "\t\t\tmax= d\n",
        "d= max\n",
        "\n",
        "sigma= d/math.sqrt(2*K_cent)"
      ],
      "metadata": {
        "id": "SJ0pIAG1lPsR"
      },
      "execution_count": 72,
      "outputs": []
    },
    {
      "cell_type": "code",
      "source": [
        "shape= X_train.shape\n",
        "row= shape[0]\n",
        "column= K_cent\n",
        "G= np.empty((row,column), dtype= float)"
      ],
      "metadata": {
        "id": "RHDw9P8mt4-j"
      },
      "execution_count": 73,
      "outputs": []
    },
    {
      "cell_type": "code",
      "source": [
        "for i in range(row):\n",
        "  for j in range(column):\n",
        "    dist= np.linalg.norm(X_train[i]-cent[j])\n",
        "    G[i][j]= math.exp(-math.pow(dist,2)/math.pow(2*sigma,2))"
      ],
      "metadata": {
        "id": "9jewfLR9t8VY"
      },
      "execution_count": 74,
      "outputs": []
    },
    {
      "cell_type": "code",
      "source": [
        "GTG= np.dot(G.T,G)\n",
        "GTG_inv= np.linalg.inv(GTG)\n",
        "fac= np.dot(GTG_inv,G.T)\n",
        "W= np.dot(fac,X_train)"
      ],
      "metadata": {
        "id": "3WtvRpIyuC5x"
      },
      "execution_count": 75,
      "outputs": []
    },
    {
      "cell_type": "code",
      "source": [
        "row= X_test.shape[0]\n",
        "column= K_cent\n",
        "G_test= np.empty((row,column), dtype= float)\n",
        "for i in range(row):\n",
        "\tfor j in range(column):\n",
        "\t\tdist= np.linalg.norm(X_test[i]-cent[j])\n",
        "\t\tG_test[i][j]= math.exp(-math.pow(dist,2)/math.pow(2*sigma,2))"
      ],
      "metadata": {
        "id": "RmaNLcmOuQwZ"
      },
      "execution_count": 76,
      "outputs": []
    },
    {
      "cell_type": "code",
      "source": [
        "prediction= np.dot(G_test,W)\n",
        "prediction= 0.5*(np.sign(prediction-0.5)+1)\n",
        "\n",
        "y_test = pd.Series(y_test)\n",
        "\n",
        "score= accuracy_score(prediction,y_test)\n",
        "print(score.mean())"
      ],
      "metadata": {
        "colab": {
          "base_uri": "https://localhost:8080/",
          "height": 362
        },
        "id": "EyrZzibRuVEA",
        "outputId": "9b75a4bd-d702-47cc-a667-35131c010ae0"
      },
      "execution_count": 82,
      "outputs": [
        {
          "output_type": "error",
          "ename": "ValueError",
          "evalue": "ignored",
          "traceback": [
            "\u001b[0;31m---------------------------------------------------------------------------\u001b[0m",
            "\u001b[0;31mValueError\u001b[0m                                Traceback (most recent call last)",
            "\u001b[0;32m<ipython-input-82-e026e9d81dbf>\u001b[0m in \u001b[0;36m<module>\u001b[0;34m()\u001b[0m\n\u001b[1;32m      4\u001b[0m \u001b[0my_test\u001b[0m \u001b[0;34m=\u001b[0m \u001b[0mpd\u001b[0m\u001b[0;34m.\u001b[0m\u001b[0mSeries\u001b[0m\u001b[0;34m(\u001b[0m\u001b[0my_test\u001b[0m\u001b[0;34m)\u001b[0m\u001b[0;34m\u001b[0m\u001b[0;34m\u001b[0m\u001b[0m\n\u001b[1;32m      5\u001b[0m \u001b[0;34m\u001b[0m\u001b[0m\n\u001b[0;32m----> 6\u001b[0;31m \u001b[0mscore\u001b[0m\u001b[0;34m=\u001b[0m \u001b[0maccuracy_score\u001b[0m\u001b[0;34m(\u001b[0m\u001b[0mprediction\u001b[0m\u001b[0;34m,\u001b[0m\u001b[0my_test\u001b[0m\u001b[0;34m)\u001b[0m\u001b[0;34m\u001b[0m\u001b[0;34m\u001b[0m\u001b[0m\n\u001b[0m\u001b[1;32m      7\u001b[0m \u001b[0mprint\u001b[0m\u001b[0;34m(\u001b[0m\u001b[0mscore\u001b[0m\u001b[0;34m.\u001b[0m\u001b[0mmean\u001b[0m\u001b[0;34m(\u001b[0m\u001b[0;34m)\u001b[0m\u001b[0;34m)\u001b[0m\u001b[0;34m\u001b[0m\u001b[0;34m\u001b[0m\u001b[0m\n",
            "\u001b[0;32m/usr/local/lib/python3.7/dist-packages/sklearn/metrics/_classification.py\u001b[0m in \u001b[0;36maccuracy_score\u001b[0;34m(y_true, y_pred, normalize, sample_weight)\u001b[0m\n\u001b[1;32m    203\u001b[0m \u001b[0;34m\u001b[0m\u001b[0m\n\u001b[1;32m    204\u001b[0m     \u001b[0;31m# Compute accuracy for each possible representation\u001b[0m\u001b[0;34m\u001b[0m\u001b[0;34m\u001b[0m\u001b[0;34m\u001b[0m\u001b[0m\n\u001b[0;32m--> 205\u001b[0;31m     \u001b[0my_type\u001b[0m\u001b[0;34m,\u001b[0m \u001b[0my_true\u001b[0m\u001b[0;34m,\u001b[0m \u001b[0my_pred\u001b[0m \u001b[0;34m=\u001b[0m \u001b[0m_check_targets\u001b[0m\u001b[0;34m(\u001b[0m\u001b[0my_true\u001b[0m\u001b[0;34m,\u001b[0m \u001b[0my_pred\u001b[0m\u001b[0;34m)\u001b[0m\u001b[0;34m\u001b[0m\u001b[0;34m\u001b[0m\u001b[0m\n\u001b[0m\u001b[1;32m    206\u001b[0m     \u001b[0mcheck_consistent_length\u001b[0m\u001b[0;34m(\u001b[0m\u001b[0my_true\u001b[0m\u001b[0;34m,\u001b[0m \u001b[0my_pred\u001b[0m\u001b[0;34m,\u001b[0m \u001b[0msample_weight\u001b[0m\u001b[0;34m)\u001b[0m\u001b[0;34m\u001b[0m\u001b[0;34m\u001b[0m\u001b[0m\n\u001b[1;32m    207\u001b[0m     \u001b[0;32mif\u001b[0m \u001b[0my_type\u001b[0m\u001b[0;34m.\u001b[0m\u001b[0mstartswith\u001b[0m\u001b[0;34m(\u001b[0m\u001b[0;34m\"multilabel\"\u001b[0m\u001b[0;34m)\u001b[0m\u001b[0;34m:\u001b[0m\u001b[0;34m\u001b[0m\u001b[0;34m\u001b[0m\u001b[0m\n",
            "\u001b[0;32m/usr/local/lib/python3.7/dist-packages/sklearn/metrics/_classification.py\u001b[0m in \u001b[0;36m_check_targets\u001b[0;34m(y_true, y_pred)\u001b[0m\n\u001b[1;32m     93\u001b[0m         raise ValueError(\n\u001b[1;32m     94\u001b[0m             \"Classification metrics can't handle a mix of {0} and {1} targets\".format(\n\u001b[0;32m---> 95\u001b[0;31m                 \u001b[0mtype_true\u001b[0m\u001b[0;34m,\u001b[0m \u001b[0mtype_pred\u001b[0m\u001b[0;34m\u001b[0m\u001b[0;34m\u001b[0m\u001b[0m\n\u001b[0m\u001b[1;32m     96\u001b[0m             )\n\u001b[1;32m     97\u001b[0m         )\n",
            "\u001b[0;31mValueError\u001b[0m: Classification metrics can't handle a mix of multilabel-indicator and continuous targets"
          ]
        }
      ]
    }
  ]
}