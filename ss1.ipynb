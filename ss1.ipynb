{
  "nbformat": 4,
  "nbformat_minor": 0,
  "metadata": {
    "colab": {
      "name": "Untitled14.ipynb",
      "provenance": [],
      "authorship_tag": "ABX9TyNjqmhTGDdz6AiH549N/XW9",
      "include_colab_link": true
    },
    "kernelspec": {
      "name": "python3",
      "display_name": "Python 3"
    },
    "language_info": {
      "name": "python"
    }
  },
  "cells": [
    {
      "cell_type": "markdown",
      "metadata": {
        "id": "view-in-github",
        "colab_type": "text"
      },
      "source": [
        "<a href=\"https://colab.research.google.com/github/jtunde/Python/blob/main/ss1.ipynb\" target=\"_parent\"><img src=\"https://colab.research.google.com/assets/colab-badge.svg\" alt=\"Open In Colab\"/></a>"
      ]
    },
    {
      "cell_type": "code",
      "execution_count": 1,
      "metadata": {
        "id": "xZiPPUbYBBxv"
      },
      "outputs": [],
      "source": [
        "import matplotlib as mpl\n",
        "import matplotlib.pyplot as plt\n",
        "import numpy as np\n",
        "import pandas as pd\n",
        "import seaborn as sns"
      ]
    },
    {
      "cell_type": "code",
      "source": [
        "from google.colab import drive\n",
        "drive.mount('/content/drive')"
      ],
      "metadata": {
        "id": "OySvAc8lBIHj",
        "outputId": "4740ad84-bd2c-4d17-e301-a1e978e30b34",
        "colab": {
          "base_uri": "https://localhost:8080/"
        }
      },
      "execution_count": 2,
      "outputs": [
        {
          "output_type": "stream",
          "name": "stdout",
          "text": [
            "Mounted at /content/drive\n"
          ]
        }
      ]
    },
    {
      "cell_type": "code",
      "source": [
        "traffic = pd.read_csv('drive/MyDrive/traffic.csv')\n",
        "traffic.sample(10)"
      ],
      "metadata": {
        "id": "Wdy94JgjG9jp",
        "outputId": "20d65904-71da-4168-ea5e-45c04af3846e",
        "colab": {
          "base_uri": "https://localhost:8080/",
          "height": 363
        }
      },
      "execution_count": 9,
      "outputs": [
        {
          "output_type": "execute_result",
          "data": {
            "text/html": [
              "\n",
              "  <div id=\"df-f377e170-c1b9-4a28-b93f-6b6f033c91a8\">\n",
              "    <div class=\"colab-df-container\">\n",
              "      <div>\n",
              "<style scoped>\n",
              "    .dataframe tbody tr th:only-of-type {\n",
              "        vertical-align: middle;\n",
              "    }\n",
              "\n",
              "    .dataframe tbody tr th {\n",
              "        vertical-align: top;\n",
              "    }\n",
              "\n",
              "    .dataframe thead th {\n",
              "        text-align: right;\n",
              "    }\n",
              "</style>\n",
              "<table border=\"1\" class=\"dataframe\">\n",
              "  <thead>\n",
              "    <tr style=\"text-align: right;\">\n",
              "      <th></th>\n",
              "      <th>No.</th>\n",
              "      <th>Time</th>\n",
              "      <th>Source</th>\n",
              "      <th>Destination</th>\n",
              "      <th>Protocol</th>\n",
              "      <th>Length</th>\n",
              "      <th>Info</th>\n",
              "    </tr>\n",
              "  </thead>\n",
              "  <tbody>\n",
              "    <tr>\n",
              "      <th>46</th>\n",
              "      <td>47</td>\n",
              "      <td>53.777396</td>\n",
              "      <td>10.0.0.3</td>\n",
              "      <td>10.0.0.1</td>\n",
              "      <td>ICMP</td>\n",
              "      <td>98</td>\n",
              "      <td>Echo (ping) request  id=0x5715, seq=53/13568, ...</td>\n",
              "    </tr>\n",
              "    <tr>\n",
              "      <th>6</th>\n",
              "      <td>7</td>\n",
              "      <td>8.523039</td>\n",
              "      <td>10.0.0.3</td>\n",
              "      <td>10.0.0.1</td>\n",
              "      <td>ICMP</td>\n",
              "      <td>98</td>\n",
              "      <td>Echo (ping) request  id=0x5715, seq=9/2304, tt...</td>\n",
              "    </tr>\n",
              "    <tr>\n",
              "      <th>35</th>\n",
              "      <td>36</td>\n",
              "      <td>41.629409</td>\n",
              "      <td>10.0.0.3</td>\n",
              "      <td>10.0.0.1</td>\n",
              "      <td>ICMP</td>\n",
              "      <td>98</td>\n",
              "      <td>Echo (ping) request  id=0x5715, seq=41/10496, ...</td>\n",
              "    </tr>\n",
              "    <tr>\n",
              "      <th>32</th>\n",
              "      <td>33</td>\n",
              "      <td>38.611687</td>\n",
              "      <td>10.0.0.3</td>\n",
              "      <td>10.0.0.1</td>\n",
              "      <td>ICMP</td>\n",
              "      <td>98</td>\n",
              "      <td>Echo (ping) request  id=0x5715, seq=38/9728, t...</td>\n",
              "    </tr>\n",
              "    <tr>\n",
              "      <th>33</th>\n",
              "      <td>34</td>\n",
              "      <td>39.613643</td>\n",
              "      <td>10.0.0.3</td>\n",
              "      <td>10.0.0.1</td>\n",
              "      <td>ICMP</td>\n",
              "      <td>98</td>\n",
              "      <td>Echo (ping) request  id=0x5715, seq=39/9984, t...</td>\n",
              "    </tr>\n",
              "    <tr>\n",
              "      <th>17</th>\n",
              "      <td>18</td>\n",
              "      <td>19.716516</td>\n",
              "      <td>10.0.0.3</td>\n",
              "      <td>10.0.0.1</td>\n",
              "      <td>ICMP</td>\n",
              "      <td>98</td>\n",
              "      <td>Echo (ping) request  id=0x5715, seq=20/5120, t...</td>\n",
              "    </tr>\n",
              "    <tr>\n",
              "      <th>3</th>\n",
              "      <td>4</td>\n",
              "      <td>4.168048</td>\n",
              "      <td>10.0.0.3</td>\n",
              "      <td>10.0.0.1</td>\n",
              "      <td>ICMP</td>\n",
              "      <td>98</td>\n",
              "      <td>Echo (ping) request  id=0x5715, seq=5/1280, tt...</td>\n",
              "    </tr>\n",
              "    <tr>\n",
              "      <th>45</th>\n",
              "      <td>46</td>\n",
              "      <td>52.762470</td>\n",
              "      <td>10.0.0.3</td>\n",
              "      <td>10.0.0.1</td>\n",
              "      <td>ICMP</td>\n",
              "      <td>98</td>\n",
              "      <td>Echo (ping) request  id=0x5715, seq=52/13312, ...</td>\n",
              "    </tr>\n",
              "    <tr>\n",
              "      <th>21</th>\n",
              "      <td>22</td>\n",
              "      <td>24.786615</td>\n",
              "      <td>10.0.0.3</td>\n",
              "      <td>10.0.0.1</td>\n",
              "      <td>ICMP</td>\n",
              "      <td>98</td>\n",
              "      <td>Echo (ping) request  id=0x5715, seq=25/6400, t...</td>\n",
              "    </tr>\n",
              "    <tr>\n",
              "      <th>5</th>\n",
              "      <td>6</td>\n",
              "      <td>6.488997</td>\n",
              "      <td>10.0.0.3</td>\n",
              "      <td>10.0.0.1</td>\n",
              "      <td>ICMP</td>\n",
              "      <td>98</td>\n",
              "      <td>Echo (ping) request  id=0x5715, seq=7/1792, tt...</td>\n",
              "    </tr>\n",
              "  </tbody>\n",
              "</table>\n",
              "</div>\n",
              "      <button class=\"colab-df-convert\" onclick=\"convertToInteractive('df-f377e170-c1b9-4a28-b93f-6b6f033c91a8')\"\n",
              "              title=\"Convert this dataframe to an interactive table.\"\n",
              "              style=\"display:none;\">\n",
              "        \n",
              "  <svg xmlns=\"http://www.w3.org/2000/svg\" height=\"24px\"viewBox=\"0 0 24 24\"\n",
              "       width=\"24px\">\n",
              "    <path d=\"M0 0h24v24H0V0z\" fill=\"none\"/>\n",
              "    <path d=\"M18.56 5.44l.94 2.06.94-2.06 2.06-.94-2.06-.94-.94-2.06-.94 2.06-2.06.94zm-11 1L8.5 8.5l.94-2.06 2.06-.94-2.06-.94L8.5 2.5l-.94 2.06-2.06.94zm10 10l.94 2.06.94-2.06 2.06-.94-2.06-.94-.94-2.06-.94 2.06-2.06.94z\"/><path d=\"M17.41 7.96l-1.37-1.37c-.4-.4-.92-.59-1.43-.59-.52 0-1.04.2-1.43.59L10.3 9.45l-7.72 7.72c-.78.78-.78 2.05 0 2.83L4 21.41c.39.39.9.59 1.41.59.51 0 1.02-.2 1.41-.59l7.78-7.78 2.81-2.81c.8-.78.8-2.07 0-2.86zM5.41 20L4 18.59l7.72-7.72 1.47 1.35L5.41 20z\"/>\n",
              "  </svg>\n",
              "      </button>\n",
              "      \n",
              "  <style>\n",
              "    .colab-df-container {\n",
              "      display:flex;\n",
              "      flex-wrap:wrap;\n",
              "      gap: 12px;\n",
              "    }\n",
              "\n",
              "    .colab-df-convert {\n",
              "      background-color: #E8F0FE;\n",
              "      border: none;\n",
              "      border-radius: 50%;\n",
              "      cursor: pointer;\n",
              "      display: none;\n",
              "      fill: #1967D2;\n",
              "      height: 32px;\n",
              "      padding: 0 0 0 0;\n",
              "      width: 32px;\n",
              "    }\n",
              "\n",
              "    .colab-df-convert:hover {\n",
              "      background-color: #E2EBFA;\n",
              "      box-shadow: 0px 1px 2px rgba(60, 64, 67, 0.3), 0px 1px 3px 1px rgba(60, 64, 67, 0.15);\n",
              "      fill: #174EA6;\n",
              "    }\n",
              "\n",
              "    [theme=dark] .colab-df-convert {\n",
              "      background-color: #3B4455;\n",
              "      fill: #D2E3FC;\n",
              "    }\n",
              "\n",
              "    [theme=dark] .colab-df-convert:hover {\n",
              "      background-color: #434B5C;\n",
              "      box-shadow: 0px 1px 3px 1px rgba(0, 0, 0, 0.15);\n",
              "      filter: drop-shadow(0px 1px 2px rgba(0, 0, 0, 0.3));\n",
              "      fill: #FFFFFF;\n",
              "    }\n",
              "  </style>\n",
              "\n",
              "      <script>\n",
              "        const buttonEl =\n",
              "          document.querySelector('#df-f377e170-c1b9-4a28-b93f-6b6f033c91a8 button.colab-df-convert');\n",
              "        buttonEl.style.display =\n",
              "          google.colab.kernel.accessAllowed ? 'block' : 'none';\n",
              "\n",
              "        async function convertToInteractive(key) {\n",
              "          const element = document.querySelector('#df-f377e170-c1b9-4a28-b93f-6b6f033c91a8');\n",
              "          const dataTable =\n",
              "            await google.colab.kernel.invokeFunction('convertToInteractive',\n",
              "                                                     [key], {});\n",
              "          if (!dataTable) return;\n",
              "\n",
              "          const docLinkHtml = 'Like what you see? Visit the ' +\n",
              "            '<a target=\"_blank\" href=https://colab.research.google.com/notebooks/data_table.ipynb>data table notebook</a>'\n",
              "            + ' to learn more about interactive tables.';\n",
              "          element.innerHTML = '';\n",
              "          dataTable['output_type'] = 'display_data';\n",
              "          await google.colab.output.renderOutput(dataTable, element);\n",
              "          const docLink = document.createElement('div');\n",
              "          docLink.innerHTML = docLinkHtml;\n",
              "          element.appendChild(docLink);\n",
              "        }\n",
              "      </script>\n",
              "    </div>\n",
              "  </div>\n",
              "  "
            ],
            "text/plain": [
              "    No.       Time  ... Length                                               Info\n",
              "46   47  53.777396  ...     98  Echo (ping) request  id=0x5715, seq=53/13568, ...\n",
              "6     7   8.523039  ...     98  Echo (ping) request  id=0x5715, seq=9/2304, tt...\n",
              "35   36  41.629409  ...     98  Echo (ping) request  id=0x5715, seq=41/10496, ...\n",
              "32   33  38.611687  ...     98  Echo (ping) request  id=0x5715, seq=38/9728, t...\n",
              "33   34  39.613643  ...     98  Echo (ping) request  id=0x5715, seq=39/9984, t...\n",
              "17   18  19.716516  ...     98  Echo (ping) request  id=0x5715, seq=20/5120, t...\n",
              "3     4   4.168048  ...     98  Echo (ping) request  id=0x5715, seq=5/1280, tt...\n",
              "45   46  52.762470  ...     98  Echo (ping) request  id=0x5715, seq=52/13312, ...\n",
              "21   22  24.786615  ...     98  Echo (ping) request  id=0x5715, seq=25/6400, t...\n",
              "5     6   6.488997  ...     98  Echo (ping) request  id=0x5715, seq=7/1792, tt...\n",
              "\n",
              "[10 rows x 7 columns]"
            ]
          },
          "metadata": {},
          "execution_count": 9
        }
      ]
    },
    {
      "cell_type": "code",
      "source": [
        "plt.rcParams[\"figure.figsize\"] = (20,10)\n",
        "plt.plot(traffic['Time'], color='DarkGreen')"
      ],
      "metadata": {
        "id": "qbZufse8Hdy2",
        "outputId": "e55396a1-b874-4038-ef51-cae15abafe76",
        "colab": {
          "base_uri": "https://localhost:8080/",
          "height": 610
        }
      },
      "execution_count": 12,
      "outputs": [
        {
          "output_type": "execute_result",
          "data": {
            "text/plain": [
              "[<matplotlib.lines.Line2D at 0x7fe0db9a31d0>]"
            ]
          },
          "metadata": {},
          "execution_count": 12
        },
        {
          "output_type": "display_data",
          "data": {
            "image/png": "[encoded data removed]",
            "text/plain": [
              "<Figure size 1440x720 with 1 Axes>"
            ]
          },
          "metadata": {
            "needs_background": "light"
          }
        }
      ]
    },
    {
      "cell_type": "code",
      "source": [
        ""
      ],
      "metadata": {
        "id": "1beBkFCMUwUZ"
      },
      "execution_count": null,
      "outputs": []
    },
    {
      "cell_type": "code",
      "source": [
        "attack = pd.read_csv('drive/MyDrive/attack.csv')\n",
        "attack.sample(10)"
      ],
      "metadata": {
        "id": "pNnNWKZYBI_Q",
        "outputId": "6d8f0935-5d4b-4f49-eaac-141c78f73beb",
        "colab": {
          "base_uri": "https://localhost:8080/",
          "height": 363
        }
      },
      "execution_count": 10,
      "outputs": [
        {
          "output_type": "execute_result",
          "data": {
            "text/html": [
              "\n",
              "  <div id=\"df-cc7600bb-c785-4ef1-a295-b7ef96ad1c0d\">\n",
              "    <div class=\"colab-df-container\">\n",
              "      <div>\n",
              "<style scoped>\n",
              "    .dataframe tbody tr th:only-of-type {\n",
              "        vertical-align: middle;\n",
              "    }\n",
              "\n",
              "    .dataframe tbody tr th {\n",
              "        vertical-align: top;\n",
              "    }\n",
              "\n",
              "    .dataframe thead th {\n",
              "        text-align: right;\n",
              "    }\n",
              "</style>\n",
              "<table border=\"1\" class=\"dataframe\">\n",
              "  <thead>\n",
              "    <tr style=\"text-align: right;\">\n",
              "      <th></th>\n",
              "      <th>No.</th>\n",
              "      <th>Time</th>\n",
              "      <th>Source</th>\n",
              "      <th>Destination</th>\n",
              "      <th>Protocol</th>\n",
              "      <th>Length</th>\n",
              "      <th>Info</th>\n",
              "    </tr>\n",
              "  </thead>\n",
              "  <tbody>\n",
              "    <tr>\n",
              "      <th>0</th>\n",
              "      <td>1</td>\n",
              "      <td>0.000000</td>\n",
              "      <td>10.0.0.3</td>\n",
              "      <td>10.0.0.1</td>\n",
              "      <td>ICMP</td>\n",
              "      <td>98</td>\n",
              "      <td>Echo (ping) request  id=0x15be, seq=2/512, ttl...</td>\n",
              "    </tr>\n",
              "    <tr>\n",
              "      <th>12</th>\n",
              "      <td>13</td>\n",
              "      <td>18.171275</td>\n",
              "      <td>10.0.0.3</td>\n",
              "      <td>10.0.0.1</td>\n",
              "      <td>ICMP</td>\n",
              "      <td>98</td>\n",
              "      <td>Echo (ping) request  id=0x15be, seq=20/5120, t...</td>\n",
              "    </tr>\n",
              "    <tr>\n",
              "      <th>10</th>\n",
              "      <td>11</td>\n",
              "      <td>13.093606</td>\n",
              "      <td>10.0.0.3</td>\n",
              "      <td>10.0.0.1</td>\n",
              "      <td>ICMP</td>\n",
              "      <td>98</td>\n",
              "      <td>Echo (ping) request  id=0x15be, seq=15/3840, t...</td>\n",
              "    </tr>\n",
              "    <tr>\n",
              "      <th>8</th>\n",
              "      <td>9</td>\n",
              "      <td>11.088884</td>\n",
              "      <td>10.0.0.3</td>\n",
              "      <td>10.0.0.1</td>\n",
              "      <td>ICMP</td>\n",
              "      <td>98</td>\n",
              "      <td>Echo (ping) request  id=0x15be, seq=13/3328, t...</td>\n",
              "    </tr>\n",
              "    <tr>\n",
              "      <th>9</th>\n",
              "      <td>10</td>\n",
              "      <td>12.090049</td>\n",
              "      <td>10.0.0.3</td>\n",
              "      <td>10.0.0.1</td>\n",
              "      <td>ICMP</td>\n",
              "      <td>98</td>\n",
              "      <td>Echo (ping) request  id=0x15be, seq=14/3584, t...</td>\n",
              "    </tr>\n",
              "    <tr>\n",
              "      <th>2</th>\n",
              "      <td>3</td>\n",
              "      <td>2.001209</td>\n",
              "      <td>10.0.0.3</td>\n",
              "      <td>10.0.0.1</td>\n",
              "      <td>ICMP</td>\n",
              "      <td>98</td>\n",
              "      <td>Echo (ping) request  id=0x15be, seq=4/1024, tt...</td>\n",
              "    </tr>\n",
              "    <tr>\n",
              "      <th>4</th>\n",
              "      <td>5</td>\n",
              "      <td>5.032151</td>\n",
              "      <td>10.0.0.3</td>\n",
              "      <td>10.0.0.1</td>\n",
              "      <td>ICMP</td>\n",
              "      <td>98</td>\n",
              "      <td>Echo (ping) request  id=0x15be, seq=7/1792, tt...</td>\n",
              "    </tr>\n",
              "    <tr>\n",
              "      <th>11</th>\n",
              "      <td>12</td>\n",
              "      <td>15.136117</td>\n",
              "      <td>10.0.0.3</td>\n",
              "      <td>10.0.0.1</td>\n",
              "      <td>ICMP</td>\n",
              "      <td>98</td>\n",
              "      <td>Echo (ping) request  id=0x15be, seq=17/4352, t...</td>\n",
              "    </tr>\n",
              "    <tr>\n",
              "      <th>1</th>\n",
              "      <td>2</td>\n",
              "      <td>0.999878</td>\n",
              "      <td>10.0.0.3</td>\n",
              "      <td>10.0.0.1</td>\n",
              "      <td>ICMP</td>\n",
              "      <td>98</td>\n",
              "      <td>Echo (ping) request  id=0x15be, seq=3/768, ttl...</td>\n",
              "    </tr>\n",
              "    <tr>\n",
              "      <th>5</th>\n",
              "      <td>6</td>\n",
              "      <td>7.071026</td>\n",
              "      <td>10.0.0.3</td>\n",
              "      <td>10.0.0.1</td>\n",
              "      <td>ICMP</td>\n",
              "      <td>98</td>\n",
              "      <td>Echo (ping) request  id=0x15be, seq=9/2304, tt...</td>\n",
              "    </tr>\n",
              "  </tbody>\n",
              "</table>\n",
              "</div>\n",
              "      <button class=\"colab-df-convert\" onclick=\"convertToInteractive('df-cc7600bb-c785-4ef1-a295-b7ef96ad1c0d')\"\n",
              "              title=\"Convert this dataframe to an interactive table.\"\n",
              "              style=\"display:none;\">\n",
              "        \n",
              "  <svg xmlns=\"http://www.w3.org/2000/svg\" height=\"24px\"viewBox=\"0 0 24 24\"\n",
              "       width=\"24px\">\n",
              "    <path d=\"M0 0h24v24H0V0z\" fill=\"none\"/>\n",
              "    <path d=\"M18.56 5.44l.94 2.06.94-2.06 2.06-.94-2.06-.94-.94-2.06-.94 2.06-2.06.94zm-11 1L8.5 8.5l.94-2.06 2.06-.94-2.06-.94L8.5 2.5l-.94 2.06-2.06.94zm10 10l.94 2.06.94-2.06 2.06-.94-2.06-.94-.94-2.06-.94 2.06-2.06.94z\"/><path d=\"M17.41 7.96l-1.37-1.37c-.4-.4-.92-.59-1.43-.59-.52 0-1.04.2-1.43.59L10.3 9.45l-7.72 7.72c-.78.78-.78 2.05 0 2.83L4 21.41c.39.39.9.59 1.41.59.51 0 1.02-.2 1.41-.59l7.78-7.78 2.81-2.81c.8-.78.8-2.07 0-2.86zM5.41 20L4 18.59l7.72-7.72 1.47 1.35L5.41 20z\"/>\n",
              "  </svg>\n",
              "      </button>\n",
              "      \n",
              "  <style>\n",
              "    .colab-df-container {\n",
              "      display:flex;\n",
              "      flex-wrap:wrap;\n",
              "      gap: 12px;\n",
              "    }\n",
              "\n",
              "    .colab-df-convert {\n",
              "      background-color: #E8F0FE;\n",
              "      border: none;\n",
              "      border-radius: 50%;\n",
              "      cursor: pointer;\n",
              "      display: none;\n",
              "      fill: #1967D2;\n",
              "      height: 32px;\n",
              "      padding: 0 0 0 0;\n",
              "      width: 32px;\n",
              "    }\n",
              "\n",
              "    .colab-df-convert:hover {\n",
              "      background-color: #E2EBFA;\n",
              "      box-shadow: 0px 1px 2px rgba(60, 64, 67, 0.3), 0px 1px 3px 1px rgba(60, 64, 67, 0.15);\n",
              "      fill: #174EA6;\n",
              "    }\n",
              "\n",
              "    [theme=dark] .colab-df-convert {\n",
              "      background-color: #3B4455;\n",
              "      fill: #D2E3FC;\n",
              "    }\n",
              "\n",
              "    [theme=dark] .colab-df-convert:hover {\n",
              "      background-color: #434B5C;\n",
              "      box-shadow: 0px 1px 3px 1px rgba(0, 0, 0, 0.15);\n",
              "      filter: drop-shadow(0px 1px 2px rgba(0, 0, 0, 0.3));\n",
              "      fill: #FFFFFF;\n",
              "    }\n",
              "  </style>\n",
              "\n",
              "      <script>\n",
              "        const buttonEl =\n",
              "          document.querySelector('#df-cc7600bb-c785-4ef1-a295-b7ef96ad1c0d button.colab-df-convert');\n",
              "        buttonEl.style.display =\n",
              "          google.colab.kernel.accessAllowed ? 'block' : 'none';\n",
              "\n",
              "        async function convertToInteractive(key) {\n",
              "          const element = document.querySelector('#df-cc7600bb-c785-4ef1-a295-b7ef96ad1c0d');\n",
              "          const dataTable =\n",
              "            await google.colab.kernel.invokeFunction('convertToInteractive',\n",
              "                                                     [key], {});\n",
              "          if (!dataTable) return;\n",
              "\n",
              "          const docLinkHtml = 'Like what you see? Visit the ' +\n",
              "            '<a target=\"_blank\" href=https://colab.research.google.com/notebooks/data_table.ipynb>data table notebook</a>'\n",
              "            + ' to learn more about interactive tables.';\n",
              "          element.innerHTML = '';\n",
              "          dataTable['output_type'] = 'display_data';\n",
              "          await google.colab.output.renderOutput(dataTable, element);\n",
              "          const docLink = document.createElement('div');\n",
              "          docLink.innerHTML = docLinkHtml;\n",
              "          element.appendChild(docLink);\n",
              "        }\n",
              "      </script>\n",
              "    </div>\n",
              "  </div>\n",
              "  "
            ],
            "text/plain": [
              "    No.       Time  ... Length                                               Info\n",
              "0     1   0.000000  ...     98  Echo (ping) request  id=0x15be, seq=2/512, ttl...\n",
              "12   13  18.171275  ...     98  Echo (ping) request  id=0x15be, seq=20/5120, t...\n",
              "10   11  13.093606  ...     98  Echo (ping) request  id=0x15be, seq=15/3840, t...\n",
              "8     9  11.088884  ...     98  Echo (ping) request  id=0x15be, seq=13/3328, t...\n",
              "9    10  12.090049  ...     98  Echo (ping) request  id=0x15be, seq=14/3584, t...\n",
              "2     3   2.001209  ...     98  Echo (ping) request  id=0x15be, seq=4/1024, tt...\n",
              "4     5   5.032151  ...     98  Echo (ping) request  id=0x15be, seq=7/1792, tt...\n",
              "11   12  15.136117  ...     98  Echo (ping) request  id=0x15be, seq=17/4352, t...\n",
              "1     2   0.999878  ...     98  Echo (ping) request  id=0x15be, seq=3/768, ttl...\n",
              "5     6   7.071026  ...     98  Echo (ping) request  id=0x15be, seq=9/2304, tt...\n",
              "\n",
              "[10 rows x 7 columns]"
            ]
          },
          "metadata": {},
          "execution_count": 10
        }
      ]
    },
    {
      "cell_type": "code",
      "source": [
        "plt.rcParams[\"figure.figsize\"] = (20,10)\n",
        "plt.plot(attack['Time'], color='DarkGreen')"
      ],
      "metadata": {
        "colab": {
          "base_uri": "https://localhost:8080/",
          "height": 610
        },
        "id": "2QgD6TEqN0tW",
        "outputId": "dbcbf484-5020-4cea-bf57-cd1747a5d3be"
      },
      "execution_count": 13,
      "outputs": [
        {
          "output_type": "execute_result",
          "data": {
            "text/plain": [
              "[<matplotlib.lines.Line2D at 0x7fe0db9172d0>]"
            ]
          },
          "metadata": {},
          "execution_count": 13
        },
        {
          "output_type": "display_data",
          "data": {
            "image/png": "[encoded data removed]",
            "text/plain": [
              "<Figure size 1440x720 with 1 Axes>"
            ]
          },
          "metadata": {
            "needs_background": "light"
          }
        }
      ]
    },
    {
      "cell_type": "code",
      "source": [
        "attack['Time'].describe()"
      ],
      "metadata": {
        "colab": {
          "base_uri": "https://localhost:8080/"
        },
        "id": "qP0IFqqaOVYN",
        "outputId": "5c97a20b-fd60-44b8-ee8d-45f5f618a120"
      },
      "execution_count": 14,
      "outputs": [
        {
          "output_type": "execute_result",
          "data": {
            "text/plain": [
              "count    13.000000\n",
              "mean      8.298775\n",
              "std       5.666903\n",
              "min       0.000000\n",
              "25%       4.031092\n",
              "50%       9.083788\n",
              "75%      12.090049\n",
              "max      18.171275\n",
              "Name: Time, dtype: float64"
            ]
          },
          "metadata": {},
          "execution_count": 14
        }
      ]
    },
    {
      "cell_type": "code",
      "source": [
        "attack['Protocol'].describe()"
      ],
      "metadata": {
        "id": "hQ1EjVEDesXe",
        "outputId": "36827121-eb10-413b-b1ca-010b0ad4fc98",
        "colab": {
          "base_uri": "https://localhost:8080/"
        }
      },
      "execution_count": 15,
      "outputs": [
        {
          "output_type": "execute_result",
          "data": {
            "text/plain": [
              "count       13\n",
              "unique       1\n",
              "top       ICMP\n",
              "freq        13\n",
              "Name: Protocol, dtype: object"
            ]
          },
          "metadata": {},
          "execution_count": 15
        }
      ]
    },
    {
      "cell_type": "code",
      "source": [
        "def beolvas(data):\n",
        "    T = []\n",
        "    L = []\n",
        "    M = []\n",
        "    P = []\n",
        "    Q = []\n",
        "    R = []\n",
        "    \n",
        "    for j in range(len(data)):\n",
        "        T=data['Info'][j]        \n",
        "        db=0\n",
        "        n = len(T)\n",
        "        i = 0\n",
        "        \n",
        "        S = []\n",
        "        while T[i] != ' ':#az echo\n",
        "            S+=T[i]\n",
        "            i+=1\n",
        "        L += [S]\n",
        "\n",
        "        db = 0\n",
        "        while db != 2:\n",
        "            if T[i] == '=':#a tort elso szamjegye\n",
        "                db += 1\n",
        "            i += 1\n",
        "\n",
        "        a = 0\n",
        "        a1 = 0\n",
        "        while T[i] != '/':#a tort masodik szamjegye\n",
        "            a=int(T[i])\n",
        "            a1=a1*10+a\n",
        "            i+=1\n",
        "        M+=[a1]\n",
        "\n",
        "        i+=1\n",
        "        \n",
        "        b = 0\n",
        "        b1 = 0\n",
        "        while T[i] != ',':\n",
        "            b=int(T[i])\n",
        "            b1=b1*10+b\n",
        "            i+=1\n",
        "        P+=[b1]\n",
        "        Q+=[a1/b1]\n",
        "\n",
        "        while T[i] != '=':\n",
        "            i+=1\n",
        "\n",
        "        i+=1\n",
        "        \n",
        "        c = 0\n",
        "        c1 = 0\n",
        "        while T[i] != ' ':#harmadik szamjegy\n",
        "            c=int(T[i])\n",
        "            c1=c1*10+c\n",
        "            i+=1\n",
        "        R+=[c1]\n",
        "        \n",
        "\n",
        "    return L, M, P, Q, R\n"
      ],
      "metadata": {
        "id": "whwdd-dhDWJa"
      },
      "execution_count": 17,
      "outputs": []
    },
    {
      "cell_type": "code",
      "source": [
        "    L, M, P, Q, R = beolvas(attack)\n",
        "    \n",
        "    print(L)\n",
        "    print(M)\n",
        "    print(P)\n",
        "    print(Q)\n",
        "    print(R)"
      ],
      "metadata": {
        "id": "3-53xl7qJNF1",
        "outputId": "fef8a48e-0eb9-4749-afce-8e889c9426c0",
        "colab": {
          "base_uri": "https://localhost:8080/"
        }
      },
      "execution_count": 18,
      "outputs": [
        {
          "output_type": "stream",
          "name": "stdout",
          "text": [
            "[['E', 'c', 'h', 'o'], ['E', 'c', 'h', 'o'], ['E', 'c', 'h', 'o'], ['E', 'c', 'h', 'o'], ['E', 'c', 'h', 'o'], ['E', 'c', 'h', 'o'], ['E', 'c', 'h', 'o'], ['E', 'c', 'h', 'o'], ['E', 'c', 'h', 'o'], ['E', 'c', 'h', 'o'], ['E', 'c', 'h', 'o'], ['E', 'c', 'h', 'o'], ['E', 'c', 'h', 'o']]\n",
            "[2, 3, 4, 6, 7, 9, 11, 12, 13, 14, 15, 17, 20]\n",
            "[512, 768, 1024, 1536, 1792, 2304, 2816, 3072, 3328, 3584, 3840, 4352, 5120]\n",
            "[0.00390625, 0.00390625, 0.00390625, 0.00390625, 0.00390625, 0.00390625, 0.00390625, 0.00390625, 0.00390625, 0.00390625, 0.00390625, 0.00390625, 0.00390625]\n",
            "[64, 64, 64, 64, 64, 64, 64, 64, 64, 64, 64, 64, 64]\n"
          ]
        }
      ]
    }
  ]
}