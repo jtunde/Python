{
  "nbformat": 4,
  "nbformat_minor": 0,
  "metadata": {
    "colab": {
      "name": "Untitled14.ipynb",
      "provenance": [],
      "authorship_tag": "ABX9TyNKZY32qrg320OAX1LdCNZ7",
      "include_colab_link": true
    },
    "kernelspec": {
      "name": "python3",
      "display_name": "Python 3"
    },
    "language_info": {
      "name": "python"
    }
  },
  "cells": [
    {
      "cell_type": "markdown",
      "metadata": {
        "id": "view-in-github",
        "colab_type": "text"
      },
      "source": [
        "<a href=\"https://colab.research.google.com/github/jtunde/Python/blob/main/ss1.ipynb\" target=\"_parent\"><img src=\"https://colab.research.google.com/assets/colab-badge.svg\" alt=\"Open In Colab\"/></a>"
      ]
    },
    {
      "cell_type": "code",
      "execution_count": 1,
      "metadata": {
        "id": "xZiPPUbYBBxv"
      },
      "outputs": [],
      "source": [
        "import matplotlib as mpl\n",
        "import matplotlib.pyplot as plt\n",
        "import numpy as np\n",
        "import pandas as pd\n",
        "import seaborn as sns"
      ]
    },
    {
      "cell_type": "code",
      "source": [
        "from google.colab import drive\n",
        "drive.mount('/content/drive')"
      ],
      "metadata": {
        "id": "OySvAc8lBIHj",
        "outputId": "482a5424-755f-4875-fe57-ec4c97bca6cb",
        "colab": {
          "base_uri": "https://localhost:8080/"
        }
      },
      "execution_count": 39,
      "outputs": [
        {
          "output_type": "stream",
          "name": "stdout",
          "text": [
            "Drive already mounted at /content/drive; to attempt to forcibly remount, call drive.mount(\"/content/drive\", force_remount=True).\n"
          ]
        }
      ]
    },
    {
      "cell_type": "code",
      "source": [
        "data = pd.read_csv('drive/MyDrive/attack.csv')\n",
        "print(data.head())"
      ],
      "metadata": {
        "id": "pNnNWKZYBI_Q",
        "outputId": "d80103b9-a46c-4753-bcd3-e142c5e328f6",
        "colab": {
          "base_uri": "https://localhost:8080/"
        }
      },
      "execution_count": 7,
      "outputs": [
        {
          "output_type": "stream",
          "name": "stdout",
          "text": [
            "   No.      Time  ... Length                                               Info\n",
            "0    1  0.000000  ...     98  Echo (ping) request  id=0x15be, seq=2/512, ttl...\n",
            "1    2  0.999878  ...     98  Echo (ping) request  id=0x15be, seq=3/768, ttl...\n",
            "2    3  2.001209  ...     98  Echo (ping) request  id=0x15be, seq=4/1024, tt...\n",
            "3    4  4.031092  ...     98  Echo (ping) request  id=0x15be, seq=6/1536, tt...\n",
            "4    5  5.032151  ...     98  Echo (ping) request  id=0x15be, seq=7/1792, tt...\n",
            "\n",
            "[5 rows x 7 columns]\n"
          ]
        }
      ]
    },
    {
      "cell_type": "code",
      "source": [
        "def beolvas():\n",
        "    T = []\n",
        "    L = []\n",
        "    M = []\n",
        "    P = []\n",
        "    Q = []\n",
        "    R = []\n",
        "    \n",
        "    for j in range(len(data)):\n",
        "        T=data['Info'][j]        \n",
        "        db=0\n",
        "        n = len(T)\n",
        "        i = 0\n",
        "        \n",
        "        S = []\n",
        "        while T[i] != ' ':#az echo\n",
        "            S+=T[i]\n",
        "            i+=1\n",
        "        L += [S]\n",
        "\n",
        "        db = 0\n",
        "        while db != 2:\n",
        "            if T[i] == '=':#a tort elso szamjegye\n",
        "                db += 1\n",
        "            i += 1\n",
        "\n",
        "        a = 0\n",
        "        a1 = 0\n",
        "        while T[i] != '/':#a tort masodik szamjegye\n",
        "            a=int(T[i])\n",
        "            a1=a1*10+a\n",
        "            i+=1\n",
        "        M+=[a1]\n",
        "\n",
        "        i+=1\n",
        "        \n",
        "        b = 0\n",
        "        b1 = 0\n",
        "        while T[i] != ',':\n",
        "            b=int(T[i])\n",
        "            b1=b1*10+b\n",
        "            i+=1\n",
        "        P+=[b1]\n",
        "        Q+=[a1/b1]\n",
        "\n",
        "        while T[i] != '=':\n",
        "            i+=1\n",
        "\n",
        "        i+=1\n",
        "        \n",
        "        c = 0\n",
        "        c1 = 0\n",
        "        while T[i] != ' ':#harmadik szamjegy\n",
        "            c=int(T[i])\n",
        "            c1=c1*10+c\n",
        "            i+=1\n",
        "        R+=[c1]\n",
        "        \n",
        "\n",
        "    return L, M, P, Q, R\n"
      ],
      "metadata": {
        "id": "whwdd-dhDWJa"
      },
      "execution_count": 49,
      "outputs": []
    },
    {
      "cell_type": "code",
      "source": [
        "    L, M, P, Q, R = beolvas()\n",
        "    \n",
        "    print(L)\n",
        "    print(M)\n",
        "    print(P)\n",
        "    print(Q)\n",
        "    print(R)"
      ],
      "metadata": {
        "id": "3-53xl7qJNF1",
        "outputId": "fbb9fc17-16a6-4d39-de7b-c549b3656002",
        "colab": {
          "base_uri": "https://localhost:8080/"
        }
      },
      "execution_count": 50,
      "outputs": [
        {
          "output_type": "stream",
          "name": "stdout",
          "text": [
            "[['E', 'c', 'h', 'o'], ['E', 'c', 'h', 'o'], ['E', 'c', 'h', 'o'], ['E', 'c', 'h', 'o'], ['E', 'c', 'h', 'o'], ['E', 'c', 'h', 'o'], ['E', 'c', 'h', 'o'], ['E', 'c', 'h', 'o'], ['E', 'c', 'h', 'o'], ['E', 'c', 'h', 'o'], ['E', 'c', 'h', 'o'], ['E', 'c', 'h', 'o'], ['E', 'c', 'h', 'o']]\n",
            "[2, 3, 4, 6, 7, 9, 11, 12, 13, 14, 15, 17, 20]\n",
            "[512, 768, 1024, 1536, 1792, 2304, 2816, 3072, 3328, 3584, 3840, 4352, 5120]\n",
            "[0.00390625, 0.00390625, 0.00390625, 0.00390625, 0.00390625, 0.00390625, 0.00390625, 0.00390625, 0.00390625, 0.00390625, 0.00390625, 0.00390625, 0.00390625]\n",
            "[64, 64, 64, 64, 64, 64, 64, 64, 64, 64, 64, 64, 64]\n"
          ]
        }
      ]
    },
    {
      "cell_type": "code",
      "source": [
        ""
      ],
      "metadata": {
        "id": "JKUsx1gUB2L4"
      },
      "execution_count": null,
      "outputs": []
    }
  ]
}