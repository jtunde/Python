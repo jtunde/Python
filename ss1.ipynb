{
  "nbformat": 4,
  "nbformat_minor": 0,
  "metadata": {
    "colab": {
      "name": "Untitled14.ipynb",
      "provenance": [],
      "authorship_tag": "ABX9TyPFEX0f6DnYw24lCdniFimc",
      "include_colab_link": true
    },
    "kernelspec": {
      "name": "python3",
      "display_name": "Python 3"
    },
    "language_info": {
      "name": "python"
    }
  },
  "cells": [
    {
      "cell_type": "markdown",
      "metadata": {
        "id": "view-in-github",
        "colab_type": "text"
      },
      "source": [
        "<a href=\"https://colab.research.google.com/github/jtunde/Python/blob/main/ss1.ipynb\" target=\"_parent\"><img src=\"https://colab.research.google.com/assets/colab-badge.svg\" alt=\"Open In Colab\"/></a>"
      ]
    },
    {
      "cell_type": "code",
      "execution_count": 7,
      "metadata": {
        "id": "xZiPPUbYBBxv"
      },
      "outputs": [],
      "source": [
        "import matplotlib as mpl\n",
        "import matplotlib.pyplot as plt\n",
        "import numpy as np\n",
        "import pandas as pd\n",
        "import seaborn as sns"
      ]
    },
    {
      "cell_type": "code",
      "source": [
        "from google.colab import drive\n",
        "drive.mount('/content/drive')"
      ],
      "metadata": {
        "id": "OySvAc8lBIHj",
        "outputId": "482a5424-755f-4875-fe57-ec4c97bca6cb",
        "colab": {
          "base_uri": "https://localhost:8080/"
        }
      },
      "execution_count": null,
      "outputs": [
        {
          "output_type": "stream",
          "name": "stdout",
          "text": [
            "Drive already mounted at /content/drive; to attempt to forcibly remount, call drive.mount(\"/content/drive\", force_remount=True).\n"
          ]
        }
      ]
    },
    {
      "cell_type": "code",
      "source": [
        "data = pd.read_csv('drive/MyDrive/attack.csv')\n",
        "data.sample(10)"
      ],
      "metadata": {
        "id": "pNnNWKZYBI_Q",
        "outputId": "34bb3237-cf02-41af-bf6a-34add9bad70a",
        "colab": {
          "base_uri": "https://localhost:8080/",
          "height": 363
        }
      },
      "execution_count": 14,
      "outputs": [
        {
          "output_type": "execute_result",
          "data": {
            "text/html": [
              "\n",
              "  <div id=\"df-3a5fc09b-bac8-466a-b463-a8cc393b4053\">\n",
              "    <div class=\"colab-df-container\">\n",
              "      <div>\n",
              "<style scoped>\n",
              "    .dataframe tbody tr th:only-of-type {\n",
              "        vertical-align: middle;\n",
              "    }\n",
              "\n",
              "    .dataframe tbody tr th {\n",
              "        vertical-align: top;\n",
              "    }\n",
              "\n",
              "    .dataframe thead th {\n",
              "        text-align: right;\n",
              "    }\n",
              "</style>\n",
              "<table border=\"1\" class=\"dataframe\">\n",
              "  <thead>\n",
              "    <tr style=\"text-align: right;\">\n",
              "      <th></th>\n",
              "      <th>No.</th>\n",
              "      <th>Time</th>\n",
              "      <th>Source</th>\n",
              "      <th>Destination</th>\n",
              "      <th>Protocol</th>\n",
              "      <th>Length</th>\n",
              "      <th>Info</th>\n",
              "    </tr>\n",
              "  </thead>\n",
              "  <tbody>\n",
              "    <tr>\n",
              "      <th>7</th>\n",
              "      <td>8</td>\n",
              "      <td>10.084998</td>\n",
              "      <td>10.0.0.3</td>\n",
              "      <td>10.0.0.1</td>\n",
              "      <td>ICMP</td>\n",
              "      <td>98</td>\n",
              "      <td>Echo (ping) request  id=0x15be, seq=12/3072, t...</td>\n",
              "    </tr>\n",
              "    <tr>\n",
              "      <th>8</th>\n",
              "      <td>9</td>\n",
              "      <td>11.088884</td>\n",
              "      <td>10.0.0.3</td>\n",
              "      <td>10.0.0.1</td>\n",
              "      <td>ICMP</td>\n",
              "      <td>98</td>\n",
              "      <td>Echo (ping) request  id=0x15be, seq=13/3328, t...</td>\n",
              "    </tr>\n",
              "    <tr>\n",
              "      <th>1</th>\n",
              "      <td>2</td>\n",
              "      <td>0.999878</td>\n",
              "      <td>10.0.0.3</td>\n",
              "      <td>10.0.0.1</td>\n",
              "      <td>ICMP</td>\n",
              "      <td>98</td>\n",
              "      <td>Echo (ping) request  id=0x15be, seq=3/768, ttl...</td>\n",
              "    </tr>\n",
              "    <tr>\n",
              "      <th>4</th>\n",
              "      <td>5</td>\n",
              "      <td>5.032151</td>\n",
              "      <td>10.0.0.3</td>\n",
              "      <td>10.0.0.1</td>\n",
              "      <td>ICMP</td>\n",
              "      <td>98</td>\n",
              "      <td>Echo (ping) request  id=0x15be, seq=7/1792, tt...</td>\n",
              "    </tr>\n",
              "    <tr>\n",
              "      <th>10</th>\n",
              "      <td>11</td>\n",
              "      <td>13.093606</td>\n",
              "      <td>10.0.0.3</td>\n",
              "      <td>10.0.0.1</td>\n",
              "      <td>ICMP</td>\n",
              "      <td>98</td>\n",
              "      <td>Echo (ping) request  id=0x15be, seq=15/3840, t...</td>\n",
              "    </tr>\n",
              "    <tr>\n",
              "      <th>6</th>\n",
              "      <td>7</td>\n",
              "      <td>9.083788</td>\n",
              "      <td>10.0.0.3</td>\n",
              "      <td>10.0.0.1</td>\n",
              "      <td>ICMP</td>\n",
              "      <td>98</td>\n",
              "      <td>Echo (ping) request  id=0x15be, seq=11/2816, t...</td>\n",
              "    </tr>\n",
              "    <tr>\n",
              "      <th>3</th>\n",
              "      <td>4</td>\n",
              "      <td>4.031092</td>\n",
              "      <td>10.0.0.3</td>\n",
              "      <td>10.0.0.1</td>\n",
              "      <td>ICMP</td>\n",
              "      <td>98</td>\n",
              "      <td>Echo (ping) request  id=0x15be, seq=6/1536, tt...</td>\n",
              "    </tr>\n",
              "    <tr>\n",
              "      <th>5</th>\n",
              "      <td>6</td>\n",
              "      <td>7.071026</td>\n",
              "      <td>10.0.0.3</td>\n",
              "      <td>10.0.0.1</td>\n",
              "      <td>ICMP</td>\n",
              "      <td>98</td>\n",
              "      <td>Echo (ping) request  id=0x15be, seq=9/2304, tt...</td>\n",
              "    </tr>\n",
              "    <tr>\n",
              "      <th>11</th>\n",
              "      <td>12</td>\n",
              "      <td>15.136117</td>\n",
              "      <td>10.0.0.3</td>\n",
              "      <td>10.0.0.1</td>\n",
              "      <td>ICMP</td>\n",
              "      <td>98</td>\n",
              "      <td>Echo (ping) request  id=0x15be, seq=17/4352, t...</td>\n",
              "    </tr>\n",
              "    <tr>\n",
              "      <th>2</th>\n",
              "      <td>3</td>\n",
              "      <td>2.001209</td>\n",
              "      <td>10.0.0.3</td>\n",
              "      <td>10.0.0.1</td>\n",
              "      <td>ICMP</td>\n",
              "      <td>98</td>\n",
              "      <td>Echo (ping) request  id=0x15be, seq=4/1024, tt...</td>\n",
              "    </tr>\n",
              "  </tbody>\n",
              "</table>\n",
              "</div>\n",
              "      <button class=\"colab-df-convert\" onclick=\"convertToInteractive('df-3a5fc09b-bac8-466a-b463-a8cc393b4053')\"\n",
              "              title=\"Convert this dataframe to an interactive table.\"\n",
              "              style=\"display:none;\">\n",
              "        \n",
              "  <svg xmlns=\"http://www.w3.org/2000/svg\" height=\"24px\"viewBox=\"0 0 24 24\"\n",
              "       width=\"24px\">\n",
              "    <path d=\"M0 0h24v24H0V0z\" fill=\"none\"/>\n",
              "    <path d=\"M18.56 5.44l.94 2.06.94-2.06 2.06-.94-2.06-.94-.94-2.06-.94 2.06-2.06.94zm-11 1L8.5 8.5l.94-2.06 2.06-.94-2.06-.94L8.5 2.5l-.94 2.06-2.06.94zm10 10l.94 2.06.94-2.06 2.06-.94-2.06-.94-.94-2.06-.94 2.06-2.06.94z\"/><path d=\"M17.41 7.96l-1.37-1.37c-.4-.4-.92-.59-1.43-.59-.52 0-1.04.2-1.43.59L10.3 9.45l-7.72 7.72c-.78.78-.78 2.05 0 2.83L4 21.41c.39.39.9.59 1.41.59.51 0 1.02-.2 1.41-.59l7.78-7.78 2.81-2.81c.8-.78.8-2.07 0-2.86zM5.41 20L4 18.59l7.72-7.72 1.47 1.35L5.41 20z\"/>\n",
              "  </svg>\n",
              "      </button>\n",
              "      \n",
              "  <style>\n",
              "    .colab-df-container {\n",
              "      display:flex;\n",
              "      flex-wrap:wrap;\n",
              "      gap: 12px;\n",
              "    }\n",
              "\n",
              "    .colab-df-convert {\n",
              "      background-color: #E8F0FE;\n",
              "      border: none;\n",
              "      border-radius: 50%;\n",
              "      cursor: pointer;\n",
              "      display: none;\n",
              "      fill: #1967D2;\n",
              "      height: 32px;\n",
              "      padding: 0 0 0 0;\n",
              "      width: 32px;\n",
              "    }\n",
              "\n",
              "    .colab-df-convert:hover {\n",
              "      background-color: #E2EBFA;\n",
              "      box-shadow: 0px 1px 2px rgba(60, 64, 67, 0.3), 0px 1px 3px 1px rgba(60, 64, 67, 0.15);\n",
              "      fill: #174EA6;\n",
              "    }\n",
              "\n",
              "    [theme=dark] .colab-df-convert {\n",
              "      background-color: #3B4455;\n",
              "      fill: #D2E3FC;\n",
              "    }\n",
              "\n",
              "    [theme=dark] .colab-df-convert:hover {\n",
              "      background-color: #434B5C;\n",
              "      box-shadow: 0px 1px 3px 1px rgba(0, 0, 0, 0.15);\n",
              "      filter: drop-shadow(0px 1px 2px rgba(0, 0, 0, 0.3));\n",
              "      fill: #FFFFFF;\n",
              "    }\n",
              "  </style>\n",
              "\n",
              "      <script>\n",
              "        const buttonEl =\n",
              "          document.querySelector('#df-3a5fc09b-bac8-466a-b463-a8cc393b4053 button.colab-df-convert');\n",
              "        buttonEl.style.display =\n",
              "          google.colab.kernel.accessAllowed ? 'block' : 'none';\n",
              "\n",
              "        async function convertToInteractive(key) {\n",
              "          const element = document.querySelector('#df-3a5fc09b-bac8-466a-b463-a8cc393b4053');\n",
              "          const dataTable =\n",
              "            await google.colab.kernel.invokeFunction('convertToInteractive',\n",
              "                                                     [key], {});\n",
              "          if (!dataTable) return;\n",
              "\n",
              "          const docLinkHtml = 'Like what you see? Visit the ' +\n",
              "            '<a target=\"_blank\" href=https://colab.research.google.com/notebooks/data_table.ipynb>data table notebook</a>'\n",
              "            + ' to learn more about interactive tables.';\n",
              "          element.innerHTML = '';\n",
              "          dataTable['output_type'] = 'display_data';\n",
              "          await google.colab.output.renderOutput(dataTable, element);\n",
              "          const docLink = document.createElement('div');\n",
              "          docLink.innerHTML = docLinkHtml;\n",
              "          element.appendChild(docLink);\n",
              "        }\n",
              "      </script>\n",
              "    </div>\n",
              "  </div>\n",
              "  "
            ],
            "text/plain": [
              "    No.       Time  ... Length                                               Info\n",
              "7     8  10.084998  ...     98  Echo (ping) request  id=0x15be, seq=12/3072, t...\n",
              "8     9  11.088884  ...     98  Echo (ping) request  id=0x15be, seq=13/3328, t...\n",
              "1     2   0.999878  ...     98  Echo (ping) request  id=0x15be, seq=3/768, ttl...\n",
              "4     5   5.032151  ...     98  Echo (ping) request  id=0x15be, seq=7/1792, tt...\n",
              "10   11  13.093606  ...     98  Echo (ping) request  id=0x15be, seq=15/3840, t...\n",
              "6     7   9.083788  ...     98  Echo (ping) request  id=0x15be, seq=11/2816, t...\n",
              "3     4   4.031092  ...     98  Echo (ping) request  id=0x15be, seq=6/1536, tt...\n",
              "5     6   7.071026  ...     98  Echo (ping) request  id=0x15be, seq=9/2304, tt...\n",
              "11   12  15.136117  ...     98  Echo (ping) request  id=0x15be, seq=17/4352, t...\n",
              "2     3   2.001209  ...     98  Echo (ping) request  id=0x15be, seq=4/1024, tt...\n",
              "\n",
              "[10 rows x 7 columns]"
            ]
          },
          "metadata": {},
          "execution_count": 14
        }
      ]
    },
    {
      "cell_type": "code",
      "source": [
        "plt.rcParams[\"figure.figsize\"] = (20,10)\n",
        "plt.plot(data['Time'], data['Source'], 'o', color='DarkGreen')"
      ],
      "metadata": {
        "colab": {
          "base_uri": "https://localhost:8080/",
          "height": 610
        },
        "id": "2QgD6TEqN0tW",
        "outputId": "651135e5-9f66-436a-e892-2dda4a899778"
      },
      "execution_count": 15,
      "outputs": [
        {
          "output_type": "execute_result",
          "data": {
            "text/plain": [
              "[<matplotlib.lines.Line2D at 0x7f5b7035cd50>]"
            ]
          },
          "metadata": {},
          "execution_count": 15
        },
        {
          "output_type": "display_data",
          "data": {
            "image/png": "[encoded data removed]",
            "text/plain": [
              "<Figure size 1440x720 with 1 Axes>"
            ]
          },
          "metadata": {
            "needs_background": "light"
          }
        }
      ]
    },
    {
      "cell_type": "code",
      "source": [
        "data['Time'].describe()"
      ],
      "metadata": {
        "colab": {
          "base_uri": "https://localhost:8080/"
        },
        "id": "qP0IFqqaOVYN",
        "outputId": "e99a0422-d95d-4569-a246-6ac1e6c82b2c"
      },
      "execution_count": 16,
      "outputs": [
        {
          "output_type": "execute_result",
          "data": {
            "text/plain": [
              "count    13.000000\n",
              "mean      8.298775\n",
              "std       5.666903\n",
              "min       0.000000\n",
              "25%       4.031092\n",
              "50%       9.083788\n",
              "75%      12.090049\n",
              "max      18.171275\n",
              "Name: Time, dtype: float64"
            ]
          },
          "metadata": {},
          "execution_count": 16
        }
      ]
    },
    {
      "cell_type": "code",
      "source": [
        "data['Protocol'].describe()"
      ],
      "metadata": {
        "id": "hQ1EjVEDesXe",
        "outputId": "dd27e854-2b38-4b4e-892d-9d5052643fe1",
        "colab": {
          "base_uri": "https://localhost:8080/"
        }
      },
      "execution_count": 17,
      "outputs": [
        {
          "output_type": "execute_result",
          "data": {
            "text/plain": [
              "count       13\n",
              "unique       1\n",
              "top       ICMP\n",
              "freq        13\n",
              "Name: Protocol, dtype: object"
            ]
          },
          "metadata": {},
          "execution_count": 17
        }
      ]
    },
    {
      "cell_type": "code",
      "source": [
        "def beolvas():\n",
        "    T = []\n",
        "    L = []\n",
        "    M = []\n",
        "    P = []\n",
        "    Q = []\n",
        "    R = []\n",
        "    \n",
        "    for j in range(len(data)):\n",
        "        T=data['Info'][j]        \n",
        "        db=0\n",
        "        n = len(T)\n",
        "        i = 0\n",
        "        \n",
        "        S = []\n",
        "        while T[i] != ' ':#az echo\n",
        "            S+=T[i]\n",
        "            i+=1\n",
        "        L += [S]\n",
        "\n",
        "        db = 0\n",
        "        while db != 2:\n",
        "            if T[i] == '=':#a tort elso szamjegye\n",
        "                db += 1\n",
        "            i += 1\n",
        "\n",
        "        a = 0\n",
        "        a1 = 0\n",
        "        while T[i] != '/':#a tort masodik szamjegye\n",
        "            a=int(T[i])\n",
        "            a1=a1*10+a\n",
        "            i+=1\n",
        "        M+=[a1]\n",
        "\n",
        "        i+=1\n",
        "        \n",
        "        b = 0\n",
        "        b1 = 0\n",
        "        while T[i] != ',':\n",
        "            b=int(T[i])\n",
        "            b1=b1*10+b\n",
        "            i+=1\n",
        "        P+=[b1]\n",
        "        Q+=[a1/b1]\n",
        "\n",
        "        while T[i] != '=':\n",
        "            i+=1\n",
        "\n",
        "        i+=1\n",
        "        \n",
        "        c = 0\n",
        "        c1 = 0\n",
        "        while T[i] != ' ':#harmadik szamjegy\n",
        "            c=int(T[i])\n",
        "            c1=c1*10+c\n",
        "            i+=1\n",
        "        R+=[c1]\n",
        "        \n",
        "\n",
        "    return L, M, P, Q, R\n"
      ],
      "metadata": {
        "id": "whwdd-dhDWJa"
      },
      "execution_count": null,
      "outputs": []
    },
    {
      "cell_type": "code",
      "source": [
        "    L, M, P, Q, R = beolvas()\n",
        "    \n",
        "    print(L)\n",
        "    print(M)\n",
        "    print(P)\n",
        "    print(Q)\n",
        "    print(R)"
      ],
      "metadata": {
        "id": "3-53xl7qJNF1",
        "outputId": "fbb9fc17-16a6-4d39-de7b-c549b3656002",
        "colab": {
          "base_uri": "https://localhost:8080/"
        }
      },
      "execution_count": null,
      "outputs": [
        {
          "output_type": "stream",
          "name": "stdout",
          "text": [
            "[['E', 'c', 'h', 'o'], ['E', 'c', 'h', 'o'], ['E', 'c', 'h', 'o'], ['E', 'c', 'h', 'o'], ['E', 'c', 'h', 'o'], ['E', 'c', 'h', 'o'], ['E', 'c', 'h', 'o'], ['E', 'c', 'h', 'o'], ['E', 'c', 'h', 'o'], ['E', 'c', 'h', 'o'], ['E', 'c', 'h', 'o'], ['E', 'c', 'h', 'o'], ['E', 'c', 'h', 'o']]\n",
            "[2, 3, 4, 6, 7, 9, 11, 12, 13, 14, 15, 17, 20]\n",
            "[512, 768, 1024, 1536, 1792, 2304, 2816, 3072, 3328, 3584, 3840, 4352, 5120]\n",
            "[0.00390625, 0.00390625, 0.00390625, 0.00390625, 0.00390625, 0.00390625, 0.00390625, 0.00390625, 0.00390625, 0.00390625, 0.00390625, 0.00390625, 0.00390625]\n",
            "[64, 64, 64, 64, 64, 64, 64, 64, 64, 64, 64, 64, 64]\n"
          ]
        }
      ]
    }
  ]
}