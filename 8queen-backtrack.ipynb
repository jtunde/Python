{
  "nbformat": 4,
  "nbformat_minor": 0,
  "metadata": {
    "colab": {
      "name": "Untitled16.ipynb",
      "provenance": [],
      "authorship_tag": "ABX9TyPcIfPFPOpzK3cy06QHGZRn",
      "include_colab_link": true
    },
    "kernelspec": {
      "name": "python3",
      "display_name": "Python 3"
    },
    "language_info": {
      "name": "python"
    }
  },
  "cells": [
    {
      "cell_type": "markdown",
      "metadata": {
        "id": "view-in-github",
        "colab_type": "text"
      },
      "source": [
        "<a href=\"https://colab.research.google.com/github/jtunde/Python/blob/main/8queen-backtrack.ipynb\" target=\"_parent\"><img src=\"https://colab.research.google.com/assets/colab-badge.svg\" alt=\"Open In Colab\"/></a>"
      ]
    },
    {
      "cell_type": "code",
      "execution_count": 29,
      "metadata": {
        "id": "o4IjL0te2GyB"
      },
      "outputs": [],
      "source": [
        "#int n,m,v[11]={0};\n",
        "v=[]\n",
        "v=[0 for i in range(11)]\n",
        "n=4"
      ]
    },
    {
      "cell_type": "code",
      "source": [
        "\"\"\"\n",
        "int megfelelo(int k)\n",
        "{int i;\n",
        " for(i=1;i<k;i++)\n",
        "  if ((v[k]==v[i]) or (k-i==abs(v[k]-v[i])))return 0\n",
        "   return 1;\n",
        "}\n",
        "\"\"\"\n",
        "\n",
        "def megfelelo(k):\n",
        "  for i in range(k):\n",
        "    if ((v[k]==v[i]) or (k-i==abs(v[k]-v[i]))): \n",
        "      return 0\n",
        "  return 1\n"
      ],
      "metadata": {
        "id": "7QtuRbCw7v6e"
      },
      "execution_count": 30,
      "outputs": []
    },
    {
      "cell_type": "code",
      "source": [
        "\"\"\"\n",
        "int megoldas(int k)\n",
        "{return (k==n);\n",
        "}\n",
        "\"\"\"\n",
        "\n",
        "def megoldas(k):\n",
        "  return k==n"
      ],
      "metadata": {
        "id": "2lznrqlx-fv-"
      },
      "execution_count": 31,
      "outputs": []
    },
    {
      "cell_type": "code",
      "source": [
        "\"\"\"\n",
        "void kiir(int k)\n",
        "{int i,j;\n",
        " for(i=1;i<=k;i++){\n",
        "  for(j=1;j<=k;j++)\n",
        "    if(v[i]==j)cout<<\"* \";\n",
        "    else cout<<\"- \";\n",
        "  cout<<endl;\n",
        " }\n",
        " }\n",
        "\"\"\"\n",
        "\n",
        "def kiir(k):\n",
        "  for i in range(1,k+1):\n",
        "    for j in range(1,k+1):\n",
        "      if(v[i]==j):\n",
        "        print(\"*\",end=\" \")\n",
        "      else:  \n",
        "        print(\"-\",end=\" \")\n",
        "    print('\\n')"
      ],
      "metadata": {
        "id": "qyLUKLG9_D4t"
      },
      "execution_count": 32,
      "outputs": []
    },
    {
      "cell_type": "code",
      "source": [
        "\"\"\"\n",
        "int i,j,k;\n",
        "\n",
        "cin>>n;\n",
        "k=1;v[1]=0;\n",
        "while(k>0){\n",
        "  if(v[k]<n){//van meg kiprobalatlan elem a lehetseges ertekek halmazaban\n",
        "    v[k]++;//kivalasztjuk a soron kovetkezo elemet\n",
        "    if (megfelelo(k))\n",
        "      if(megoldas(k)) {kiir(k);k=0;}\n",
        "      else {\n",
        "        k++;\n",
        "        v[k]=0;\n",
        "      }\n",
        "  }\n",
        "  else k--;//visszalepunk\n",
        "}\n",
        "\"\"\"\n",
        "\n",
        "n=int(input())\n",
        "k=1\n",
        "v[1]=0\n",
        "while (k>0):\n",
        "  if(v[k]<n):\n",
        "    v[k]=v[k]+1\n",
        "    if (megfelelo(k)):\n",
        "      if(megoldas(k)):\n",
        "         kiir(k)\n",
        "         k=0\n",
        "      else:\n",
        "        k=k+1\n",
        "        v[k]=0\n",
        "  else:\n",
        "     k=k-1"
      ],
      "metadata": {
        "id": "4ScDfXmgAGTe",
        "outputId": "a8815bbe-b7f9-403b-d6b3-cc28e8d47b80",
        "colab": {
          "base_uri": "https://localhost:8080/"
        }
      },
      "execution_count": 33,
      "outputs": [
        {
          "output_type": "stream",
          "name": "stdout",
          "text": [
            "4\n",
            "- * - - \n",
            "\n",
            "- - - * \n",
            "\n",
            "* - - - \n",
            "\n",
            "- - * - \n",
            "\n"
          ]
        }
      ]
    }
  ]
}