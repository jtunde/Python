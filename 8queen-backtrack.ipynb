{
  "nbformat": 4,
  "nbformat_minor": 0,
  "metadata": {
    "colab": {
      "name": "Untitled16.ipynb",
      "provenance": [],
      "authorship_tag": "ABX9TyO1OJ+43XxSKsC2t5n/KZCE",
      "include_colab_link": true
    },
    "kernelspec": {
      "name": "python3",
      "display_name": "Python 3"
    },
    "language_info": {
      "name": "python"
    }
  },
  "cells": [
    {
      "cell_type": "markdown",
      "metadata": {
        "id": "view-in-github",
        "colab_type": "text"
      },
      "source": [
        "<a href=\"https://colab.research.google.com/github/jtunde/Python/blob/main/8queen-backtrack.ipynb\" target=\"_parent\"><img src=\"https://colab.research.google.com/assets/colab-badge.svg\" alt=\"Open In Colab\"/></a>"
      ]
    },
    {
      "cell_type": "code",
      "execution_count": null,
      "metadata": {
        "id": "o4IjL0te2GyB"
      },
      "outputs": [],
      "source": [
        "#int n,m,v[11]={0};\n",
        "v=[]\n",
        "v=[0 for i in range(11)]"
      ]
    },
    {
      "cell_type": "code",
      "source": [
        "\"\"\"\n",
        "int megfelelo(int k)\n",
        "{int i;\n",
        " for(i=1;i<k;i++)\n",
        "  if ((v[k]==v[i]) or (k-i==abs(v[k]-v[i])))return 0\n",
        "   return 1;\n",
        "}\n",
        "\"\"\"\n",
        "\n",
        "def megfelelo(k)\n",
        "  for i in range(k):\n",
        "    if ((v[k]==v[i]) or (k-i==abs(v[k]-v[i]))) return 0\n",
        "  return 1\n"
      ],
      "metadata": {
        "id": "7QtuRbCw7v6e"
      },
      "execution_count": null,
      "outputs": []
    }
  ]
}