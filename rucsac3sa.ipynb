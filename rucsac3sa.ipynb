{
  "nbformat": 4,
  "nbformat_minor": 0,
  "metadata": {
    "colab": {
      "provenance": [],
      "authorship_tag": "ABX9TyPxd1Qqs5qeHQPJaEXqP+nh",
      "include_colab_link": true
    },
    "kernelspec": {
      "name": "python3",
      "display_name": "Python 3"
    },
    "language_info": {
      "name": "python"
    }
  },
  "cells": [
    {
      "cell_type": "markdown",
      "metadata": {
        "id": "view-in-github",
        "colab_type": "text"
      },
      "source": [
        "<a href=\"https://colab.research.google.com/github/jtunde/Python/blob/main/rucsac3sa.ipynb\" target=\"_parent\"><img src=\"https://colab.research.google.com/assets/colab-badge.svg\" alt=\"Open In Colab\"/></a>"
      ]
    },
    {
      "cell_type": "code",
      "execution_count": 2,
      "metadata": {
        "id": "CXh3kTsOeKWk"
      },
      "outputs": [],
      "source": [
        "import numpy as np"
      ]
    },
    {
      "cell_type": "code",
      "source": [
        "def total_valu_size(packing, valus, sizes, max_size):\n",
        "  # total value and size of a specified packing\n",
        "  v = 0.0  # total valu of packing\n",
        "  s = 0.0  # total size of packing\n",
        "  n = len(packing)\n",
        "  for i in range(n):\n",
        "    if packing[i] == 1:\n",
        "      v += valus[i]\n",
        "      s += sizes[i]\n",
        "  if s > max_size:  # too big to fit in knapsack\n",
        "    v = 0.0\n",
        "  return (v, s)"
      ],
      "metadata": {
        "id": "ZBr0flLZedWA"
      },
      "execution_count": 3,
      "outputs": []
    },
    {
      "cell_type": "code",
      "source": [
        "def adjacent(packing, rnd):\n",
        "  n = len(packing)\n",
        "  result = np.copy(packing)\n",
        "  i = rnd.randint(n)\n",
        "  if result[i] == 0:\n",
        "    result[i] = 1\n",
        "  elif result[i] == 1:\n",
        "    result[i] = 0\n",
        "  return result"
      ],
      "metadata": {
        "id": "vSwvJoTfegBK"
      },
      "execution_count": 4,
      "outputs": []
    },
    {
      "cell_type": "code",
      "source": [
        "def solve(n_items, rnd, valus, sizes, max_size, \\\n",
        "  max_iter, start_temperature, alpha):\n",
        "  # solve using simulated annealing\n",
        "  curr_temperature = start_temperature\n",
        "  curr_packing = np.ones(n_items, dtype=np.int64)\n",
        "  print(\"Initial guess: \")\n",
        "  print(curr_packing)\n",
        "\n",
        "  (curr_valu, curr_size) = \\\n",
        "    total_valu_size(curr_packing, valus, sizes, max_size)\n",
        "  iteration = 0\n",
        "  interval = (int)(max_iter / 10)\n",
        "  while iteration < max_iter:\n",
        "    # pct_iters_left = \\\n",
        "    #  (max_iter - iteration) / (max_iter * 1.0)\n",
        "    adj_packing = adjacent(curr_packing, rnd)\n",
        "    (adj_v, _) = total_valu_size(adj_packing, \\\n",
        "      valus, sizes, max_size)\n",
        "\n",
        "    if adj_v > curr_valu:  # better so accept adjacent\n",
        "      curr_packing = adj_packing; curr_valu = adj_v\n",
        "    else:          # adjacent packing is worse\n",
        "      accept_p = \\\n",
        "        np.exp( (adj_v - curr_valu ) / curr_temperature ) \n",
        "      p = rnd.random()\n",
        "      if p < accept_p:  # accept worse packing anyway\n",
        "        curr_packing = adj_packing; curr_valu = adj_v \n",
        "      # else don't accept\n",
        "\n",
        "    if iteration % interval == 0:\n",
        "      print(\"iter = %6d : curr value = %7.0f : \\\n",
        "        curr temp = %10.2f \" \\\n",
        "        % (iteration, curr_valu, curr_temperature))\n",
        "\n",
        "    if curr_temperature < 0.00001:\n",
        "      curr_temperature = 0.00001\n",
        "    else:\n",
        "      curr_temperature *= alpha\n",
        "      # curr_temperature = start_temperature * \\\n",
        "      # pct_iters_left * 0.0050\n",
        "    iteration += 1\n",
        "\n",
        "  return curr_packing "
      ],
      "metadata": {
        "id": "p9WP2mZneiaY"
      },
      "execution_count": 5,
      "outputs": []
    },
    {
      "cell_type": "code",
      "source": [
        "def main():\n",
        "  print(\"\\nBegin knapsack simulated annealing demo \")\n",
        "  print(\"Goal is to maximize value subject \\\n",
        "    to max size constraint \")\n",
        "\n",
        "  valus = np.array([79, 32, 47, 18, 26, 85, 33, 40, 45, 59])\n",
        "  sizes = np.array([85, 26, 48, 21, 22, 95, 43, 45, 55, 52])\n",
        "  max_size = 101\n",
        "\n",
        "  print(\"\\nItem values: \")\n",
        "  print(valus)\n",
        "  print(\"\\nItem sizes: \")\n",
        "  print(sizes)\n",
        "  print(\"\\nMax total size = %d \" % max_size)\n",
        "\n",
        "  rnd = np.random.RandomState(5)  # 3 .98 = 117,100\n",
        "  max_iter = 1000\n",
        "  start_temperature = 10000.0\n",
        "  alpha = 0.98\n",
        "\n",
        "  print(\"\\nSettings: \")\n",
        "  print(\"max_iter = %d \" % max_iter)\n",
        "  print(\"start_temperature = %0.1f \" \\\n",
        "    % start_temperature)\n",
        "  print(\"alpha = %0.2f \" % alpha)\n",
        "\n",
        "  print(\"\\nStarting solve() \")\n",
        "  packing = solve(10, rnd, valus, sizes, \n",
        "    max_size, max_iter, start_temperature, alpha)\n",
        "  print(\"Finished solve() \")\n",
        "\n",
        "  print(\"\\nBest packing found: \")\n",
        "  print(packing)\n",
        "  (v,s) = \\\n",
        "    total_valu_size(packing, valus, sizes, max_size)\n",
        "  print(\"\\nTotal value of packing = %0.1f \" % v)\n",
        "  print(\"Total size  of packing = %0.1f \" % s)\n",
        "\n",
        "  print(\"\\nEnd demo \")\n",
        "\n",
        "if __name__ == \"__main__\":\n",
        "  main()"
      ],
      "metadata": {
        "colab": {
          "base_uri": "https://localhost:8080/"
        },
        "id": "3kZHUycPemlv",
        "outputId": "6c6e7ddf-8cbd-4abc-9d7e-93b3c5c95ed3"
      },
      "execution_count": 6,
      "outputs": [
        {
          "output_type": "stream",
          "name": "stdout",
          "text": [
            "\n",
            "Begin knapsack simulated annealing demo \n",
            "Goal is to maximize value subject     to max size constraint \n",
            "\n",
            "Item values: \n",
            "[79 32 47 18 26 85 33 40 45 59]\n",
            "\n",
            "Item sizes: \n",
            "[85 26 48 21 22 95 43 45 55 52]\n",
            "\n",
            "Max total size = 101 \n",
            "\n",
            "Settings: \n",
            "max_iter = 1000 \n",
            "start_temperature = 10000.0 \n",
            "alpha = 0.98 \n",
            "\n",
            "Starting solve() \n",
            "Initial guess: \n",
            "[1 1 1 1 1 1 1 1 1 1]\n",
            "iter =      0 : curr value =       0 :         curr temp =   10000.00 \n",
            "iter =    100 : curr value =       0 :         curr temp =    1326.20 \n",
            "iter =    200 : curr value =       0 :         curr temp =     175.88 \n",
            "iter =    300 : curr value =       0 :         curr temp =      23.33 \n",
            "iter =    400 : curr value =      98 :         curr temp =       3.09 \n",
            "iter =    500 : curr value =      98 :         curr temp =       0.41 \n",
            "iter =    600 : curr value =      98 :         curr temp =       0.05 \n",
            "iter =    700 : curr value =      98 :         curr temp =       0.01 \n",
            "iter =    800 : curr value =      98 :         curr temp =       0.00 \n",
            "iter =    900 : curr value =      98 :         curr temp =       0.00 \n",
            "Finished solve() \n",
            "\n",
            "Best packing found: \n",
            "[0 1 0 0 1 0 0 1 0 0]\n",
            "\n",
            "Total value of packing = 98.0 \n",
            "Total size  of packing = 93.0 \n",
            "\n",
            "End demo \n"
          ]
        }
      ]
    }
  ]
}